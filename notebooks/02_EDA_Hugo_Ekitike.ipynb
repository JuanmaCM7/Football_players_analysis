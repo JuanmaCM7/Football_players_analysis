{
 "cells": [
  {
   "cell_type": "markdown",
   "id": "d5df1b73",
   "metadata": {},
   "source": [
    "# ⚽ Análisis Exploratorio de Jugadores de Fútbol\n",
    "\n",
    "Este notebook forma parte del proyecto de análisis futbolístico. Exploramos datos de jugadores, sus estadísticas individuales y buscamos patrones relevantes.\n",
    "\n",
    "---\n",
    "\n",
    "## HUGO EKITIKE"
   ]
  },
  {
   "cell_type": "code",
   "execution_count": 1,
   "id": "3ee5ff72",
   "metadata": {},
   "outputs": [
    {
     "name": "stdout",
     "output_type": "stream",
     "text": [
      "✅ Working directory set to: F:\\JCMDataCenter\\Proyectos\\Football_analysis\n"
     ]
    }
   ],
   "source": [
    "import os\n",
    "from pathlib import Path\n",
    "\n",
    "# Set working directory to project root if running from 'notebooks/'\n",
    "notebook_dir = Path().resolve()\n",
    "project_root = notebook_dir.parent  # Assumes notebook is inside 'notebooks/'\n",
    "\n",
    "os.chdir(project_root)\n",
    "print(f\"✅ Working directory set to: {project_root}\")"
   ]
  },
  {
   "cell_type": "code",
   "execution_count": 2,
   "id": "49faa67a",
   "metadata": {},
   "outputs": [
    {
     "name": "stdout",
     "output_type": "stream",
     "text": [
      "🕰️ 2023–24: 17 matches\n",
      "📆 2024–25: 48 matches\n"
     ]
    }
   ],
   "source": [
    "# 📦 Imports\n",
    "import pandas as pd\n",
    "from pathlib import Path\n",
    "\n",
    "# 📂 Load cleaned matchlogs\n",
    "data_path = Path(\"data/processed/cleaned_matchlogs.csv\")\n",
    "df = pd.read_csv(data_path)\n",
    "\n",
    "# 👤 Filter by player ID (Hugo Ekitike)\n",
    "player_id = \"5b92d896\"\n",
    "df_player = df[df[\"Player_ID\"] == player_id].copy()\n",
    "\n",
    "# 📅 Convert Date column to datetime\n",
    "df_player[\"Date\"] = pd.to_datetime(df_player[\"Date\"], errors=\"coerce\")\n",
    "\n",
    "# 📌 Filter seasons by date range\n",
    "season_2324_start = \"2023-07-01\"\n",
    "season_2324_end = \"2024-06-30\"\n",
    "\n",
    "season_2425_start = \"2024-07-01\"\n",
    "season_2425_end = \"2025-06-30\"\n",
    "\n",
    "# 🗓️ Previous season: 2023–2024\n",
    "df_season_prev = df_player[\n",
    "    (df_player[\"Date\"] >= season_2324_start) &\n",
    "    (df_player[\"Date\"] <= season_2324_end)\n",
    "].copy()\n",
    "\n",
    "# 🗓️ Last season: 2024–2025\n",
    "df_season = df_player[\n",
    "    (df_player[\"Date\"] >= season_2425_start) &\n",
    "    (df_player[\"Date\"] <= season_2425_end)\n",
    "].copy()\n",
    "\n",
    "# 📊 Show how many matches were found\n",
    "print(f\"🕰️ 2023–24: {len(df_season_prev)} matches\")\n",
    "print(f\"📆 2024–25: {len(df_season)} matches\")\n"
   ]
  },
  {
   "cell_type": "code",
   "execution_count": 3,
   "id": "e3b22d2b",
   "metadata": {},
   "outputs": [
    {
     "data": {
      "text/plain": [
       "Player_name                      object\n",
       "Player_ID                        object\n",
       "Seasons                          object\n",
       "Date                     datetime64[ns]\n",
       "Day                              object\n",
       "Competition                      object\n",
       "Round                            object\n",
       "Home_Away                        object\n",
       "Result                           object\n",
       "Player_team                      object\n",
       "Rival_team                       object\n",
       "Start                              bool\n",
       "Position                         object\n",
       "Minutes                           Int64\n",
       "Goals                             Int64\n",
       "Assists                           Int64\n",
       "Penalty_kick                      Int64\n",
       "Penalty_kick_att                  Int64\n",
       "Shots                             Int64\n",
       "Shots_on_target                   Int64\n",
       "Yellow_cards                      Int64\n",
       "Red_cards                         Int64\n",
       "Touches                           Int64\n",
       "Tackles                           Int64\n",
       "Interceptions                     Int64\n",
       "Blocks                            Int64\n",
       "xG                              float64\n",
       "non_penalty_xG                  float64\n",
       "x_assisted_G                    float64\n",
       "Shot_creating_actions             Int64\n",
       "Goal_creating_actions             Int64\n",
       "Passes_completed                  Int64\n",
       "Passes_att                        Int64\n",
       "Percent_passes                  float64\n",
       "Progressive_passes                Int64\n",
       "Feet_control                      Int64\n",
       "Progressive_control               Int64\n",
       "Dribbles_attempted              float64\n",
       "Dribbles_completed                Int64\n",
       "dtype: object"
      ]
     },
     "execution_count": 3,
     "metadata": {},
     "output_type": "execute_result"
    }
   ],
   "source": [
    "import pandas as pd\n",
    "import numpy as np\n",
    "\n",
    "# 1. Set correct dtypes manually\n",
    "df_season[\"Date\"] = pd.to_datetime(df_season[\"Date\"], errors=\"coerce\")\n",
    "df_season[\"Start\"] = df_season[\"Start\"].astype(str).str.strip().str.upper() == \"Y\"\n",
    "\n",
    "\n",
    "# 2. Define columns by type\n",
    "int_cols = [\n",
    "    \"Minutes\", \"Goals\", \"Assists\", \"Penalty_kick\", \"Penalty_kick_att\",\n",
    "    \"Shots\", \"Shots_on_target\", \"Yellow_cards\", \"Red_cards\", \"Touches\",\n",
    "    \"Tackles\", \"Interceptions\", \"Blocks\", \"Shot_creating_actions\",\n",
    "    \"Goal_creating_actions\", \"Passes_completed\", \"Passes_att\",\n",
    "    \"Progressive_passes\", \"Feet_control\", \"Progressive_control\", \"Dribbles_completed\"\n",
    "]\n",
    "\n",
    "float_cols = [\"xG\", \"non_penalty_xG\", \"x_assisted_G\", \"Percent_passes\"]\n",
    "\n",
    "# 3. Convert columns safely\n",
    "for col in int_cols:\n",
    "    df_season[col] = pd.to_numeric(df_season[col], errors=\"coerce\")\n",
    "\n",
    "for col in float_cols:\n",
    "    df_season[col] = pd.to_numeric(df_season[col], errors=\"coerce\")\n",
    "\n",
    "# 4. Define who played\n",
    "df_season[\"Minutes\"] = df_season[\"Minutes\"].fillna(0)\n",
    "played_mask = df_season[\"Minutes\"] > 0\n",
    "\n",
    "# 5. Fill NaNs with 0 only for played matches\n",
    "for col in int_cols + float_cols:\n",
    "    df_season.loc[played_mask & df_season[col].isna(), col] = 0\n",
    "\n",
    "# 6. Optional: convert int cols to 'Int64' if you want missing = <NA>\n",
    "for col in int_cols:\n",
    "    try:\n",
    "        # Convert to float and check if all values are integers (e.g. 3.0)\n",
    "        if df_season[col].dropna().apply(lambda x: float(x).is_integer()).all():\n",
    "            df_season[col] = df_season[col].astype(\"Int64\")\n",
    "    except Exception as e:\n",
    "        print(f\"⚠️ Could not convert {col} to Int64: {e}\")\n",
    "\n",
    "# 7. Ensure floats are float64\n",
    "for col in float_cols:\n",
    "    df_season[col] = df_season[col].astype(\"float64\")\n",
    "\n",
    "# ✅ Done\n",
    "df_season.dtypes\n",
    "\n"
   ]
  },
  {
   "cell_type": "markdown",
   "id": "dc1b3d63",
   "metadata": {},
   "source": [
    "- **Player_name**: Full name of the player.\n",
    "- **Player_ID**: Unique identifier used by FBref for the player.\n",
    "- **Seasons**: Season in which the match was played (e.g. 2024–2025).\n",
    "- **Date**: Match date.\n",
    "- **Day**: Day of the week the match was played.\n",
    "- **Competition**: Name of the competition (e.g. Bundesliga, Europa League).\n",
    "- **Round**: Specific stage of the competition or matchday.\n",
    "- **Home_Away**: Indicates whether the player’s team played at home or away.\n",
    "- **Result**: Final match result from the player’s team perspective (e.g. W 3–1).\n",
    "- **Player_team**: Name of the team the player represented in that match.\n",
    "- **Rival_team**: Opponent team.\n",
    "\n",
    "#### 🧑 Player Performance\n",
    "\n",
    "- **Start**: Whether the player was in the starting lineup (`True`) or came off the bench (`False`).\n",
    "- **Position**: Position played in the match (e.g. ST, CM, CB).\n",
    "- **Minutes**: Minutes played during the match.\n",
    "\n",
    "#### ⚽️ Attacking Output\n",
    "\n",
    "- **Goals**: Number of goals scored.\n",
    "- **Assists**: Number of assists provided.\n",
    "- **Penalty_kick**: Penalty goals scored.\n",
    "- **Penalty_kick_att**: Total penalties taken.\n",
    "- **Shots**: Total shot attempts.\n",
    "- **Shots_on_target**: Shots that were on target.\n",
    "\n",
    "#### 🟥 Discipline\n",
    "\n",
    "- **Yellow_cards**: Number of yellow cards received.\n",
    "- **Red_cards**: Number of red cards received.\n",
    "\n",
    "#### 🏃 Ball Involvement\n",
    "\n",
    "- **Touches**: Number of touches on the ball.\n",
    "- **Tackles**: Tackles attempted.\n",
    "- **Interceptions**: Number of times the player intercepted an opponent's pass.\n",
    "- **Blocks**: Blocks made on shots, crosses or passes.\n",
    "\n",
    "#### 🔮 Expected Metrics\n",
    "\n",
    "- **xG**: Expected Goals – probability of scoring based on shot quality.\n",
    "- **non_penalty_xG**: Expected Goals excluding penalties.\n",
    "- **x_assisted_G**: Expected Assists – likelihood that a pass becomes a goal.\n",
    "\n",
    "#### 🧠 Creative Play\n",
    "\n",
    "- **Shot_creating_actions**: Offensive actions (passes, dribbles, fouls drawn) that led to a shot.\n",
    "- **Goal_creating_actions**: Actions that led directly to a goal.\n",
    "\n",
    "#### 🎯 Passing & Progression\n",
    "\n",
    "- **Passes_completed**: Total completed passes.\n",
    "- **Passes_att**: Total pass attempts.\n",
    "- **Percent_passes**: Pass completion rate (%).\n",
    "- **Progressive_passes**: Forward passes moving the ball significantly toward the opponent’s goal.\n",
    "\n",
    "#### 🏃 Carries & Dribbles\n",
    "\n",
    "- **Carries**: number of times the player controlled the ball with their feet.\n",
    "- **Progressive_control**: Carries that moved the ball significantly forward.\n",
    "- **Dribbles_attempted**: 1v1 dribble attempts.\n",
    "- **Dribbles_completed**: Successful dribbles past an opponent.\n"
   ]
  },
  {
   "cell_type": "code",
   "execution_count": 4,
   "id": "78d31339",
   "metadata": {},
   "outputs": [
    {
     "data": {
      "text/html": [
       "<div>\n",
       "<style scoped>\n",
       "    .dataframe tbody tr th:only-of-type {\n",
       "        vertical-align: middle;\n",
       "    }\n",
       "\n",
       "    .dataframe tbody tr th {\n",
       "        vertical-align: top;\n",
       "    }\n",
       "\n",
       "    .dataframe thead th {\n",
       "        text-align: right;\n",
       "    }\n",
       "</style>\n",
       "<table border=\"1\" class=\"dataframe\">\n",
       "  <thead>\n",
       "    <tr style=\"text-align: right;\">\n",
       "      <th></th>\n",
       "      <th>Value</th>\n",
       "    </tr>\n",
       "  </thead>\n",
       "  <tbody>\n",
       "    <tr>\n",
       "      <th>Matches played</th>\n",
       "      <td>48</td>\n",
       "    </tr>\n",
       "    <tr>\n",
       "      <th>Total minutes</th>\n",
       "      <td>3618</td>\n",
       "    </tr>\n",
       "    <tr>\n",
       "      <th>Avg minutes per match</th>\n",
       "      <td>75.4</td>\n",
       "    </tr>\n",
       "    <tr>\n",
       "      <th>Starts (as starter)</th>\n",
       "      <td>43</td>\n",
       "    </tr>\n",
       "    <tr>\n",
       "      <th>Substitutes</th>\n",
       "      <td>5</td>\n",
       "    </tr>\n",
       "    <tr>\n",
       "      <th>Starter ratio</th>\n",
       "      <td>89.6 %</td>\n",
       "    </tr>\n",
       "    <tr>\n",
       "      <th>Goals</th>\n",
       "      <td>22</td>\n",
       "    </tr>\n",
       "    <tr>\n",
       "      <th>Assists</th>\n",
       "      <td>12</td>\n",
       "    </tr>\n",
       "    <tr>\n",
       "      <th>Goals + Assists (G+A)</th>\n",
       "      <td>34</td>\n",
       "    </tr>\n",
       "    <tr>\n",
       "      <th>Goals per match</th>\n",
       "      <td>0.46</td>\n",
       "    </tr>\n",
       "    <tr>\n",
       "      <th>Assists per match</th>\n",
       "      <td>0.25</td>\n",
       "    </tr>\n",
       "    <tr>\n",
       "      <th>G+A per match</th>\n",
       "      <td>0.71</td>\n",
       "    </tr>\n",
       "  </tbody>\n",
       "</table>\n",
       "</div>"
      ],
      "text/plain": [
       "                        Value\n",
       "Matches played             48\n",
       "Total minutes            3618\n",
       "Avg minutes per match    75.4\n",
       "Starts (as starter)        43\n",
       "Substitutes                 5\n",
       "Starter ratio          89.6 %\n",
       "Goals                      22\n",
       "Assists                    12\n",
       "Goals + Assists (G+A)      34\n",
       "Goals per match          0.46\n",
       "Assists per match        0.25\n",
       "G+A per match            0.71"
      ]
     },
     "execution_count": 4,
     "metadata": {},
     "output_type": "execute_result"
    }
   ],
   "source": [
    "# ✅ PARTICIPATION + OFFENSIVE PRODUCTION – 2024/25 Season\n",
    "\n",
    "n_matches = len(df_season)\n",
    "total_minutes = df_season[\"Minutes\"].sum()\n",
    "avg_minutes = round(total_minutes / n_matches, 1) if n_matches > 0 else 0\n",
    "\n",
    "n_starts = df_season[\"Start\"].sum()\n",
    "n_subs = n_matches - n_starts\n",
    "starter_ratio = round(n_starts / n_matches * 100, 1)\n",
    "\n",
    "# 🎯 Offensive stats\n",
    "total_goals = df_season[\"Goals\"].sum()\n",
    "total_assists = df_season[\"Assists\"].sum()\n",
    "total_ga = total_goals + total_assists\n",
    "\n",
    "goals_per_match = round(total_goals / n_matches, 2)\n",
    "assists_per_match = round(total_assists / n_matches, 2)\n",
    "ga_per_match = round(total_ga / n_matches, 2)\n",
    "\n",
    "# 📊 Summary DataFrame\n",
    "summary = pd.DataFrame({\n",
    "    \"Value\": [\n",
    "        n_matches,\n",
    "        total_minutes,\n",
    "        avg_minutes,\n",
    "        n_starts,\n",
    "        n_subs,\n",
    "        f\"{starter_ratio} %\",\n",
    "        total_goals,\n",
    "        total_assists,\n",
    "        total_ga,\n",
    "        goals_per_match,\n",
    "        assists_per_match,\n",
    "        ga_per_match\n",
    "    ]\n",
    "}, index=[\n",
    "    \"Matches played\",\n",
    "    \"Total minutes\",\n",
    "    \"Avg minutes per match\",\n",
    "    \"Starts (as starter)\",\n",
    "    \"Substitutes\",\n",
    "    \"Starter ratio\",\n",
    "    \"Goals\",\n",
    "    \"Assists\",\n",
    "    \"Goals + Assists (G+A)\",\n",
    "    \"Goals per match\",\n",
    "    \"Assists per match\",\n",
    "    \"G+A per match\"\n",
    "])\n",
    "\n",
    "summary\n",
    "\n",
    "\n"
   ]
  },
  {
   "cell_type": "code",
   "execution_count": 5,
   "id": "75172f83",
   "metadata": {},
   "outputs": [
    {
     "data": {
      "text/html": [
       "<div>\n",
       "<style scoped>\n",
       "    .dataframe tbody tr th:only-of-type {\n",
       "        vertical-align: middle;\n",
       "    }\n",
       "\n",
       "    .dataframe tbody tr th {\n",
       "        vertical-align: top;\n",
       "    }\n",
       "\n",
       "    .dataframe thead th {\n",
       "        text-align: right;\n",
       "    }\n",
       "</style>\n",
       "<table border=\"1\" class=\"dataframe\">\n",
       "  <thead>\n",
       "    <tr style=\"text-align: right;\">\n",
       "      <th></th>\n",
       "      <th>Value</th>\n",
       "    </tr>\n",
       "  </thead>\n",
       "  <tbody>\n",
       "    <tr>\n",
       "      <th>Total xG</th>\n",
       "      <td>24.60</td>\n",
       "    </tr>\n",
       "    <tr>\n",
       "      <th>Total xAG</th>\n",
       "      <td>9.40</td>\n",
       "    </tr>\n",
       "    <tr>\n",
       "      <th>Total xG + xAG</th>\n",
       "      <td>34.00</td>\n",
       "    </tr>\n",
       "    <tr>\n",
       "      <th>xG per match</th>\n",
       "      <td>0.51</td>\n",
       "    </tr>\n",
       "    <tr>\n",
       "      <th>xAG per match</th>\n",
       "      <td>0.20</td>\n",
       "    </tr>\n",
       "    <tr>\n",
       "      <th>xG + xAG per match</th>\n",
       "      <td>0.71</td>\n",
       "    </tr>\n",
       "    <tr>\n",
       "      <th>Shot Creating Actions (SCA)</th>\n",
       "      <td>131.00</td>\n",
       "    </tr>\n",
       "    <tr>\n",
       "      <th>Goal Creating Actions (GCA)</th>\n",
       "      <td>20.00</td>\n",
       "    </tr>\n",
       "    <tr>\n",
       "      <th>SCA per match</th>\n",
       "      <td>2.73</td>\n",
       "    </tr>\n",
       "    <tr>\n",
       "      <th>GCA per match</th>\n",
       "      <td>0.42</td>\n",
       "    </tr>\n",
       "  </tbody>\n",
       "</table>\n",
       "</div>"
      ],
      "text/plain": [
       "                              Value\n",
       "Total xG                      24.60\n",
       "Total xAG                      9.40\n",
       "Total xG + xAG                34.00\n",
       "xG per match                   0.51\n",
       "xAG per match                  0.20\n",
       "xG + xAG per match             0.71\n",
       "Shot Creating Actions (SCA)  131.00\n",
       "Goal Creating Actions (GCA)   20.00\n",
       "SCA per match                  2.73\n",
       "GCA per match                  0.42"
      ]
     },
     "execution_count": 5,
     "metadata": {},
     "output_type": "execute_result"
    }
   ],
   "source": [
    "# ✅ ADVANCED OFFENSIVE METRICS – 2024/25 Season\n",
    "\n",
    "# 🧮 Aggregated totals\n",
    "xg_total = df_season[\"xG\"].sum()\n",
    "xag_total = df_season[\"x_assisted_G\"].sum()\n",
    "xga_total = xg_total + xag_total\n",
    "\n",
    "sca_total = df_season[\"Shot_creating_actions\"].sum()\n",
    "gca_total = df_season[\"Goal_creating_actions\"].sum()\n",
    "\n",
    "# 📊 Averages\n",
    "xg_per_match = round(xg_total / n_matches, 2)\n",
    "xag_per_match = round(xag_total / n_matches, 2)\n",
    "xga_per_match = round(xga_total / n_matches, 2)\n",
    "\n",
    "sca_per_match = round(sca_total / n_matches, 2)\n",
    "gca_per_match = round(gca_total / n_matches, 2)\n",
    "\n",
    "# 🧾 Offensive advanced summary\n",
    "advanced_offense = pd.DataFrame({\n",
    "    \"Value\": [\n",
    "        round(xg_total, 2),\n",
    "        round(xag_total, 2),\n",
    "        round(xga_total, 2),\n",
    "        xg_per_match,\n",
    "        xag_per_match,\n",
    "        xga_per_match,\n",
    "        sca_total,\n",
    "        gca_total,\n",
    "        sca_per_match,\n",
    "        gca_per_match\n",
    "    ]\n",
    "}, index=[\n",
    "    \"Total xG\",\n",
    "    \"Total xAG\",\n",
    "    \"Total xG + xAG\",\n",
    "    \"xG per match\",\n",
    "    \"xAG per match\",\n",
    "    \"xG + xAG per match\",\n",
    "    \"Shot Creating Actions (SCA)\",\n",
    "    \"Goal Creating Actions (GCA)\",\n",
    "    \"SCA per match\",\n",
    "    \"GCA per match\"\n",
    "])\n",
    "\n",
    "advanced_offense\n"
   ]
  },
  {
   "cell_type": "code",
   "execution_count": 6,
   "id": "e42e258d",
   "metadata": {},
   "outputs": [
    {
     "data": {
      "text/html": [
       "<div>\n",
       "<style scoped>\n",
       "    .dataframe tbody tr th:only-of-type {\n",
       "        vertical-align: middle;\n",
       "    }\n",
       "\n",
       "    .dataframe tbody tr th {\n",
       "        vertical-align: top;\n",
       "    }\n",
       "\n",
       "    .dataframe thead th {\n",
       "        text-align: right;\n",
       "    }\n",
       "</style>\n",
       "<table border=\"1\" class=\"dataframe\">\n",
       "  <thead>\n",
       "    <tr style=\"text-align: right;\">\n",
       "      <th></th>\n",
       "      <th></th>\n",
       "      <th>Value</th>\n",
       "    </tr>\n",
       "    <tr>\n",
       "      <th>Action</th>\n",
       "      <th>Metric</th>\n",
       "      <th></th>\n",
       "    </tr>\n",
       "  </thead>\n",
       "  <tbody>\n",
       "    <tr>\n",
       "      <th rowspan=\"3\" valign=\"top\">Penalty Kicks</th>\n",
       "      <th>Scored</th>\n",
       "      <td>1.0</td>\n",
       "    </tr>\n",
       "    <tr>\n",
       "      <th>Attempted</th>\n",
       "      <td>3.0</td>\n",
       "    </tr>\n",
       "    <tr>\n",
       "      <th>Conversion Rate (%)</th>\n",
       "      <td>33.3</td>\n",
       "    </tr>\n",
       "    <tr>\n",
       "      <th rowspan=\"3\" valign=\"top\">Shots</th>\n",
       "      <th>Total shots</th>\n",
       "      <td>151.0</td>\n",
       "    </tr>\n",
       "    <tr>\n",
       "      <th>On target</th>\n",
       "      <td>60.0</td>\n",
       "    </tr>\n",
       "    <tr>\n",
       "      <th>Accuracy (%)</th>\n",
       "      <td>39.7</td>\n",
       "    </tr>\n",
       "    <tr>\n",
       "      <th rowspan=\"3\" valign=\"top\">Passes</th>\n",
       "      <th>Attempted</th>\n",
       "      <td>858.0</td>\n",
       "    </tr>\n",
       "    <tr>\n",
       "      <th>Completed</th>\n",
       "      <td>646.0</td>\n",
       "    </tr>\n",
       "    <tr>\n",
       "      <th>Accuracy (%)</th>\n",
       "      <td>75.3</td>\n",
       "    </tr>\n",
       "  </tbody>\n",
       "</table>\n",
       "</div>"
      ],
      "text/plain": [
       "                                   Value\n",
       "Action        Metric                    \n",
       "Penalty Kicks Scored                 1.0\n",
       "              Attempted              3.0\n",
       "              Conversion Rate (%)   33.3\n",
       "Shots         Total shots          151.0\n",
       "              On target             60.0\n",
       "              Accuracy (%)          39.7\n",
       "Passes        Attempted            858.0\n",
       "              Completed            646.0\n",
       "              Accuracy (%)          75.3"
      ]
     },
     "execution_count": 6,
     "metadata": {},
     "output_type": "execute_result"
    }
   ],
   "source": [
    "efficiency_rows = []\n",
    "\n",
    "# 🥅 Penalty kicks\n",
    "pen_made = df_season[\"Penalty_kick\"].sum()\n",
    "pen_att = df_season[\"Penalty_kick_att\"].sum()\n",
    "pen_pct = round((pen_made / pen_att) * 100, 1) if pen_att > 0 else 0\n",
    "\n",
    "efficiency_rows.append([\"Penalty Kicks\", \"Scored\", pen_made])\n",
    "efficiency_rows.append([\"Penalty Kicks\", \"Attempted\", pen_att])\n",
    "efficiency_rows.append([\"Penalty Kicks\", \"Conversion Rate (%)\", pen_pct])\n",
    "\n",
    "# 🎯 Shots on target\n",
    "shots = df_season[\"Shots\"].sum()\n",
    "shots_on_target = df_season[\"Shots_on_target\"].sum()\n",
    "sot_pct = round((shots_on_target / shots) * 100, 1) if shots > 0 else 0\n",
    "\n",
    "efficiency_rows.append([\"Shots\", \"Total shots\", shots])\n",
    "efficiency_rows.append([\"Shots\", \"On target\", shots_on_target])\n",
    "efficiency_rows.append([\"Shots\", \"Accuracy (%)\", sot_pct])\n",
    "\n",
    "# 📨 Pass accuracy \n",
    "passes_cmp = df_season[\"Passes_completed\"].sum()\n",
    "passes_att = df_season[\"Passes_att\"].sum()\n",
    "pass_pct = round((passes_cmp / passes_att) * 100, 1) if passes_att > 0 else 0\n",
    "\n",
    "efficiency_rows.append([\"Passes\", \"Attempted\", passes_att])\n",
    "efficiency_rows.append([\"Passes\", \"Completed\", passes_cmp])\n",
    "efficiency_rows.append([\"Passes\", \"Accuracy (%)\", pass_pct])\n",
    "\n",
    "# Create table\n",
    "efficiency_summary = pd.DataFrame(\n",
    "    efficiency_rows, columns=[\"Action\", \"Metric\", \"Value\"]\n",
    ").set_index([\"Action\", \"Metric\"])\n",
    "\n",
    "efficiency_summary\n"
   ]
  },
  {
   "cell_type": "code",
   "execution_count": 7,
   "id": "39d05f8c",
   "metadata": {},
   "outputs": [
    {
     "data": {
      "text/html": [
       "<div>\n",
       "<style scoped>\n",
       "    .dataframe tbody tr th:only-of-type {\n",
       "        vertical-align: middle;\n",
       "    }\n",
       "\n",
       "    .dataframe tbody tr th {\n",
       "        vertical-align: top;\n",
       "    }\n",
       "\n",
       "    .dataframe thead th {\n",
       "        text-align: right;\n",
       "    }\n",
       "</style>\n",
       "<table border=\"1\" class=\"dataframe\">\n",
       "  <thead>\n",
       "    <tr style=\"text-align: right;\">\n",
       "      <th></th>\n",
       "      <th></th>\n",
       "      <th>Value</th>\n",
       "    </tr>\n",
       "    <tr>\n",
       "      <th>Category</th>\n",
       "      <th>Metric</th>\n",
       "      <th></th>\n",
       "    </tr>\n",
       "  </thead>\n",
       "  <tbody>\n",
       "    <tr>\n",
       "      <th rowspan=\"2\" valign=\"top\">Touches</th>\n",
       "      <th>Total</th>\n",
       "      <td>1401.0</td>\n",
       "    </tr>\n",
       "    <tr>\n",
       "      <th>Average per game</th>\n",
       "      <td>29.2</td>\n",
       "    </tr>\n",
       "    <tr>\n",
       "      <th rowspan=\"2\" valign=\"top\">Carries</th>\n",
       "      <th>Total</th>\n",
       "      <td>851.0</td>\n",
       "    </tr>\n",
       "    <tr>\n",
       "      <th>Average per game</th>\n",
       "      <td>17.7</td>\n",
       "    </tr>\n",
       "    <tr>\n",
       "      <th rowspan=\"2\" valign=\"top\">Progressions</th>\n",
       "      <th>Progressive passes</th>\n",
       "      <td>73.0</td>\n",
       "    </tr>\n",
       "    <tr>\n",
       "      <th>Progressive carries</th>\n",
       "      <td>114.0</td>\n",
       "    </tr>\n",
       "    <tr>\n",
       "      <th rowspan=\"2\" valign=\"top\">Dribbles</th>\n",
       "      <th>Successful</th>\n",
       "      <td>71.0</td>\n",
       "    </tr>\n",
       "    <tr>\n",
       "      <th>Average per game</th>\n",
       "      <td>1.5</td>\n",
       "    </tr>\n",
       "  </tbody>\n",
       "</table>\n",
       "</div>"
      ],
      "text/plain": [
       "                                   Value\n",
       "Category     Metric                     \n",
       "Touches      Total                1401.0\n",
       "             Average per game       29.2\n",
       "Carries      Total                 851.0\n",
       "             Average per game       17.7\n",
       "Progressions Progressive passes     73.0\n",
       "             Progressive carries   114.0\n",
       "Dribbles     Successful             71.0\n",
       "             Average per game        1.5"
      ]
     },
     "execution_count": 7,
     "metadata": {},
     "output_type": "execute_result"
    }
   ],
   "source": [
    "# ✅ EXTENDED SUMMARY – Ball Involvement & Actions\n",
    "\n",
    "# Define number of games played (minimum 1 minute)\n",
    "games_played = df_season[df_season[\"Minutes\"] > 0].shape[0]\n",
    "\n",
    "involvement_rows = []\n",
    "\n",
    "# 🔄 Touches\n",
    "total_touches = df_season[\"Touches\"].sum()\n",
    "avg_touches_per_game = round(total_touches / games_played, 1)\n",
    "involvement_rows.append([\"Touches\", \"Total\", total_touches])\n",
    "involvement_rows.append([\"Touches\", \"Average per game\", avg_touches_per_game])\n",
    "\n",
    "# 🦶 Carries (Ball control)\n",
    "total_carries = df_season[\"Feet_control\"].sum()\n",
    "avg_carries_per_game = round(total_carries / games_played, 1)\n",
    "involvement_rows.append([\"Carries\", \"Total\", total_carries])\n",
    "involvement_rows.append([\"Carries\", \"Average per game\", avg_carries_per_game])\n",
    "\n",
    "# 🚀 Progressive passes and carries\n",
    "prg_passes = df_season[\"Progressive_passes\"].sum()\n",
    "prg_carries = df_season[\"Progressive_control\"].sum()\n",
    "involvement_rows.append([\"Progressions\", \"Progressive passes\", prg_passes])\n",
    "involvement_rows.append([\"Progressions\", \"Progressive carries\", prg_carries])\n",
    "\n",
    "# 🪄 Dribbles completed\n",
    "dribbling_success = df_season[\"Dribbles_completed\"].sum()\n",
    "avg_dribbles_per_game = round(dribbling_success / games_played, 1)\n",
    "involvement_rows.append([\"Dribbles\", \"Successful\", dribbling_success])\n",
    "involvement_rows.append([\"Dribbles\", \"Average per game\", avg_dribbles_per_game])\n",
    "\n",
    "# 📋 Create DataFrame\n",
    "involvement_summary = pd.DataFrame(\n",
    "    involvement_rows, columns=[\"Category\", \"Metric\", \"Value\"]\n",
    ").set_index([\"Category\", \"Metric\"])\n",
    "\n",
    "involvement_summary\n"
   ]
  },
  {
   "cell_type": "code",
   "execution_count": 8,
   "id": "e886b187",
   "metadata": {},
   "outputs": [
    {
     "data": {
      "text/html": [
       "<div>\n",
       "<style scoped>\n",
       "    .dataframe tbody tr th:only-of-type {\n",
       "        vertical-align: middle;\n",
       "    }\n",
       "\n",
       "    .dataframe tbody tr th {\n",
       "        vertical-align: top;\n",
       "    }\n",
       "\n",
       "    .dataframe thead th {\n",
       "        text-align: right;\n",
       "    }\n",
       "</style>\n",
       "<table border=\"1\" class=\"dataframe\">\n",
       "  <thead>\n",
       "    <tr style=\"text-align: right;\">\n",
       "      <th></th>\n",
       "      <th></th>\n",
       "      <th>Value</th>\n",
       "    </tr>\n",
       "    <tr>\n",
       "      <th>Category</th>\n",
       "      <th>Metric</th>\n",
       "      <th></th>\n",
       "    </tr>\n",
       "  </thead>\n",
       "  <tbody>\n",
       "    <tr>\n",
       "      <th rowspan=\"4\" valign=\"top\">Expected Goals</th>\n",
       "      <th>xG total</th>\n",
       "      <td>24.6</td>\n",
       "    </tr>\n",
       "    <tr>\n",
       "      <th>Goals scored</th>\n",
       "      <td>22.0</td>\n",
       "    </tr>\n",
       "    <tr>\n",
       "      <th>Difference (G - xG)</th>\n",
       "      <td>-2.6</td>\n",
       "    </tr>\n",
       "    <tr>\n",
       "      <th>Non-penalty xG</th>\n",
       "      <td>22.2</td>\n",
       "    </tr>\n",
       "    <tr>\n",
       "      <th rowspan=\"3\" valign=\"top\">Expected Assists</th>\n",
       "      <th>xAG total</th>\n",
       "      <td>9.4</td>\n",
       "    </tr>\n",
       "    <tr>\n",
       "      <th>Assists</th>\n",
       "      <td>12.0</td>\n",
       "    </tr>\n",
       "    <tr>\n",
       "      <th>Difference (A - xAG)</th>\n",
       "      <td>2.6</td>\n",
       "    </tr>\n",
       "  </tbody>\n",
       "</table>\n",
       "</div>"
      ],
      "text/plain": [
       "                                       Value\n",
       "Category         Metric                     \n",
       "Expected Goals   xG total               24.6\n",
       "                 Goals scored           22.0\n",
       "                 Difference (G - xG)    -2.6\n",
       "                 Non-penalty xG         22.2\n",
       "Expected Assists xAG total               9.4\n",
       "                 Assists                12.0\n",
       "                 Difference (A - xAG)    2.6"
      ]
     },
     "execution_count": 8,
     "metadata": {},
     "output_type": "execute_result"
    }
   ],
   "source": [
    "# ✅ EXTENDED SUMMARY – Expected Metrics (xG, xAG, npxG)\n",
    "\n",
    "expected_rows = []\n",
    "\n",
    "# 🎯 Expected Goals (xG) vs Goals\n",
    "total_xg = df_season[\"xG\"].sum()\n",
    "total_goals = df_season[\"Goals\"].sum()\n",
    "xg_diff = round(total_goals - total_xg, 2)  # Difference between actual and expected\n",
    "\n",
    "expected_rows.append([\"Expected Goals\", \"xG total\", round(total_xg, 2)])\n",
    "expected_rows.append([\"Expected Goals\", \"Goals scored\", total_goals])\n",
    "expected_rows.append([\"Expected Goals\", \"Difference (G - xG)\", xg_diff])\n",
    "\n",
    "# 🚫 Non-penalty Expected Goals\n",
    "total_npxg = df_season[\"non_penalty_xG\"].sum()\n",
    "expected_rows.append([\"Expected Goals\", \"Non-penalty xG\", round(total_npxg, 2)])\n",
    "\n",
    "# 🎁 Expected Assists (xAG) vs Real Assists\n",
    "total_xag = df_season[\"x_assisted_G\"].sum()\n",
    "total_assists = df_season[\"Assists\"].sum()\n",
    "xag_diff = round(total_assists - total_xag, 2)\n",
    "\n",
    "expected_rows.append([\"Expected Assists\", \"xAG total\", round(total_xag, 2)])\n",
    "expected_rows.append([\"Expected Assists\", \"Assists\", total_assists])\n",
    "expected_rows.append([\"Expected Assists\", \"Difference (A - xAG)\", xag_diff])\n",
    "\n",
    "# 📋 Create DataFrame\n",
    "expected_summary = pd.DataFrame(\n",
    "    expected_rows, columns=[\"Category\", \"Metric\", \"Value\"]\n",
    ").set_index([\"Category\", \"Metric\"])\n",
    "\n",
    "expected_summary\n"
   ]
  },
  {
   "cell_type": "code",
   "execution_count": 9,
   "id": "4de29ed8",
   "metadata": {},
   "outputs": [
    {
     "data": {
      "text/html": [
       "<div>\n",
       "<style scoped>\n",
       "    .dataframe tbody tr th:only-of-type {\n",
       "        vertical-align: middle;\n",
       "    }\n",
       "\n",
       "    .dataframe tbody tr th {\n",
       "        vertical-align: top;\n",
       "    }\n",
       "\n",
       "    .dataframe thead th {\n",
       "        text-align: right;\n",
       "    }\n",
       "</style>\n",
       "<table border=\"1\" class=\"dataframe\">\n",
       "  <thead>\n",
       "    <tr style=\"text-align: right;\">\n",
       "      <th></th>\n",
       "      <th></th>\n",
       "      <th>Value</th>\n",
       "    </tr>\n",
       "    <tr>\n",
       "      <th>Category</th>\n",
       "      <th>Metric</th>\n",
       "      <th></th>\n",
       "    </tr>\n",
       "  </thead>\n",
       "  <tbody>\n",
       "    <tr>\n",
       "      <th rowspan=\"2\" valign=\"top\">Shot-Creating Actions</th>\n",
       "      <th>Total</th>\n",
       "      <td>131.00</td>\n",
       "    </tr>\n",
       "    <tr>\n",
       "      <th>Average per game</th>\n",
       "      <td>2.73</td>\n",
       "    </tr>\n",
       "    <tr>\n",
       "      <th rowspan=\"2\" valign=\"top\">Goal-Creating Actions</th>\n",
       "      <th>Total</th>\n",
       "      <td>20.00</td>\n",
       "    </tr>\n",
       "    <tr>\n",
       "      <th>Average per game</th>\n",
       "      <td>0.42</td>\n",
       "    </tr>\n",
       "  </tbody>\n",
       "</table>\n",
       "</div>"
      ],
      "text/plain": [
       "                                         Value\n",
       "Category              Metric                  \n",
       "Shot-Creating Actions Total             131.00\n",
       "                      Average per game    2.73\n",
       "Goal-Creating Actions Total              20.00\n",
       "                      Average per game    0.42"
      ]
     },
     "execution_count": 9,
     "metadata": {},
     "output_type": "execute_result"
    }
   ],
   "source": [
    "# ✅ EXTENDED SUMMARY – Shot & Goal Creating Actions (SCA & GCA)\n",
    "\n",
    "creating_rows = []\n",
    "\n",
    "# 🧠 Shot-Creating Actions\n",
    "total_sca = df_season[\"Shot_creating_actions\"].sum()\n",
    "avg_sca_per_game = round(total_sca / games_played, 2)\n",
    "\n",
    "creating_rows.append([\"Shot-Creating Actions\", \"Total\", total_sca])\n",
    "creating_rows.append([\"Shot-Creating Actions\", \"Average per game\", avg_sca_per_game])\n",
    "\n",
    "# 🧨 Goal-Creating Actions\n",
    "total_gca = df_season[\"Goal_creating_actions\"].sum()\n",
    "avg_gca_per_game = round(total_gca / games_played, 2)\n",
    "\n",
    "creating_rows.append([\"Goal-Creating Actions\", \"Total\", total_gca])\n",
    "creating_rows.append([\"Goal-Creating Actions\", \"Average per game\", avg_gca_per_game])\n",
    "\n",
    "# 📋 Create DataFrame\n",
    "creating_summary = pd.DataFrame(\n",
    "    creating_rows, columns=[\"Category\", \"Metric\", \"Value\"]\n",
    ").set_index([\"Category\", \"Metric\"])\n",
    "\n",
    "creating_summary\n"
   ]
  },
  {
   "cell_type": "code",
   "execution_count": 10,
   "id": "a370c2cf",
   "metadata": {},
   "outputs": [
    {
     "data": {
      "text/html": [
       "<div>\n",
       "<style scoped>\n",
       "    .dataframe tbody tr th:only-of-type {\n",
       "        vertical-align: middle;\n",
       "    }\n",
       "\n",
       "    .dataframe tbody tr th {\n",
       "        vertical-align: top;\n",
       "    }\n",
       "\n",
       "    .dataframe thead th {\n",
       "        text-align: right;\n",
       "    }\n",
       "</style>\n",
       "<table border=\"1\" class=\"dataframe\">\n",
       "  <thead>\n",
       "    <tr style=\"text-align: right;\">\n",
       "      <th></th>\n",
       "      <th></th>\n",
       "      <th>Value</th>\n",
       "    </tr>\n",
       "    <tr>\n",
       "      <th>Category</th>\n",
       "      <th>Metric</th>\n",
       "      <th></th>\n",
       "    </tr>\n",
       "  </thead>\n",
       "  <tbody>\n",
       "    <tr>\n",
       "      <th rowspan=\"2\" valign=\"top\">Tackles</th>\n",
       "      <th>Total</th>\n",
       "      <td>23.00</td>\n",
       "    </tr>\n",
       "    <tr>\n",
       "      <th>Average per game</th>\n",
       "      <td>0.48</td>\n",
       "    </tr>\n",
       "    <tr>\n",
       "      <th rowspan=\"2\" valign=\"top\">Interceptions</th>\n",
       "      <th>Total</th>\n",
       "      <td>13.00</td>\n",
       "    </tr>\n",
       "    <tr>\n",
       "      <th>Average per game</th>\n",
       "      <td>0.27</td>\n",
       "    </tr>\n",
       "    <tr>\n",
       "      <th rowspan=\"2\" valign=\"top\">Blocks</th>\n",
       "      <th>Total</th>\n",
       "      <td>14.00</td>\n",
       "    </tr>\n",
       "    <tr>\n",
       "      <th>Average per game</th>\n",
       "      <td>0.29</td>\n",
       "    </tr>\n",
       "  </tbody>\n",
       "</table>\n",
       "</div>"
      ],
      "text/plain": [
       "                                Value\n",
       "Category      Metric                 \n",
       "Tackles       Total             23.00\n",
       "              Average per game   0.48\n",
       "Interceptions Total             13.00\n",
       "              Average per game   0.27\n",
       "Blocks        Total             14.00\n",
       "              Average per game   0.29"
      ]
     },
     "execution_count": 10,
     "metadata": {},
     "output_type": "execute_result"
    }
   ],
   "source": [
    "# ✅ EXTENDED SUMMARY – Defensive Contributions\n",
    "\n",
    "defensive_rows = []\n",
    "\n",
    "# 🛡️ Tackles\n",
    "total_tackles = df_season[\"Tackles\"].sum()\n",
    "avg_tackles_per_game = round(total_tackles / games_played, 2)\n",
    "defensive_rows.append([\"Tackles\", \"Total\", total_tackles])\n",
    "defensive_rows.append([\"Tackles\", \"Average per game\", avg_tackles_per_game])\n",
    "\n",
    "# 🕵️ Interceptions\n",
    "total_interceptions = df_season[\"Interceptions\"].sum()\n",
    "avg_interceptions_per_game = round(total_interceptions / games_played, 2)\n",
    "defensive_rows.append([\"Interceptions\", \"Total\", total_interceptions])\n",
    "defensive_rows.append([\"Interceptions\", \"Average per game\", avg_interceptions_per_game])\n",
    "\n",
    "# 🧱 Blocks\n",
    "total_blocks = df_season[\"Blocks\"].sum()\n",
    "avg_blocks_per_game = round(total_blocks / games_played, 2)\n",
    "defensive_rows.append([\"Blocks\", \"Total\", total_blocks])\n",
    "defensive_rows.append([\"Blocks\", \"Average per game\", avg_blocks_per_game])\n",
    "\n",
    "# 📋 Create DataFrame\n",
    "defensive_summary = pd.DataFrame(\n",
    "    defensive_rows, columns=[\"Category\", \"Metric\", \"Value\"]\n",
    ").set_index([\"Category\", \"Metric\"])\n",
    "\n",
    "defensive_summary\n"
   ]
  },
  {
   "cell_type": "code",
   "execution_count": 11,
   "id": "9ac3dd4b",
   "metadata": {},
   "outputs": [
    {
     "data": {
      "text/html": [
       "<div>\n",
       "<style scoped>\n",
       "    .dataframe tbody tr th:only-of-type {\n",
       "        vertical-align: middle;\n",
       "    }\n",
       "\n",
       "    .dataframe tbody tr th {\n",
       "        vertical-align: top;\n",
       "    }\n",
       "\n",
       "    .dataframe thead th {\n",
       "        text-align: right;\n",
       "    }\n",
       "</style>\n",
       "<table border=\"1\" class=\"dataframe\">\n",
       "  <thead>\n",
       "    <tr style=\"text-align: right;\">\n",
       "      <th></th>\n",
       "      <th></th>\n",
       "      <th>Value</th>\n",
       "    </tr>\n",
       "    <tr>\n",
       "      <th>Category</th>\n",
       "      <th>Metric</th>\n",
       "      <th></th>\n",
       "    </tr>\n",
       "  </thead>\n",
       "  <tbody>\n",
       "    <tr>\n",
       "      <th rowspan=\"4\" valign=\"top\">Cards</th>\n",
       "      <th>Yellow cards</th>\n",
       "      <td>3.00</td>\n",
       "    </tr>\n",
       "    <tr>\n",
       "      <th>Avg yellow per game</th>\n",
       "      <td>0.06</td>\n",
       "    </tr>\n",
       "    <tr>\n",
       "      <th>Red cards</th>\n",
       "      <td>0.00</td>\n",
       "    </tr>\n",
       "    <tr>\n",
       "      <th>Avg red per game</th>\n",
       "      <td>0.00</td>\n",
       "    </tr>\n",
       "  </tbody>\n",
       "</table>\n",
       "</div>"
      ],
      "text/plain": [
       "                              Value\n",
       "Category Metric                    \n",
       "Cards    Yellow cards          3.00\n",
       "         Avg yellow per game   0.06\n",
       "         Red cards             0.00\n",
       "         Avg red per game      0.00"
      ]
     },
     "execution_count": 11,
     "metadata": {},
     "output_type": "execute_result"
    }
   ],
   "source": [
    "# ✅ EXTENDED SUMMARY – Discipline & Fouls\n",
    "\n",
    "discipline_rows = []\n",
    "\n",
    "# 🟨 Yellow cards\n",
    "yellow_cards = df_season[\"Yellow_cards\"].sum()\n",
    "avg_yellow_per_game = round(yellow_cards / games_played, 2)\n",
    "discipline_rows.append([\"Cards\", \"Yellow cards\", yellow_cards])\n",
    "discipline_rows.append([\"Cards\", \"Avg yellow per game\", avg_yellow_per_game])\n",
    "\n",
    "# 🟥 Red cards\n",
    "red_cards = df_season[\"Red_cards\"].sum()\n",
    "avg_red_per_game = round(red_cards / games_played, 2)\n",
    "discipline_rows.append([\"Cards\", \"Red cards\", red_cards])\n",
    "discipline_rows.append([\"Cards\", \"Avg red per game\", avg_red_per_game])\n",
    "\n",
    "# ⚠️ Optional: Fouls committed and drawn\n",
    "if \"Fouls_committed\" in df_season.columns and \"Fouls_drawn\" in df_season.columns:\n",
    "    fouls_committed = df_season[\"Fouls_committed\"].sum()\n",
    "    fouls_drawn = df_season[\"Fouls_drawn\"].sum()\n",
    "    discipline_rows.append([\"Fouls\", \"Committed\", fouls_committed])\n",
    "    discipline_rows.append([\"Fouls\", \"Drawn\", fouls_drawn])\n",
    "\n",
    "# 📋 Create DataFrame\n",
    "discipline_summary = pd.DataFrame(\n",
    "    discipline_rows, columns=[\"Category\", \"Metric\", \"Value\"]\n",
    ").set_index([\"Category\", \"Metric\"])\n",
    "\n",
    "discipline_summary\n"
   ]
  },
  {
   "cell_type": "code",
   "execution_count": 12,
   "id": "360a6cc6",
   "metadata": {},
   "outputs": [
    {
     "data": {
      "text/html": [
       "<div>\n",
       "<style scoped>\n",
       "    .dataframe tbody tr th:only-of-type {\n",
       "        vertical-align: middle;\n",
       "    }\n",
       "\n",
       "    .dataframe tbody tr th {\n",
       "        vertical-align: top;\n",
       "    }\n",
       "\n",
       "    .dataframe thead th {\n",
       "        text-align: right;\n",
       "    }\n",
       "</style>\n",
       "<table border=\"1\" class=\"dataframe\">\n",
       "  <thead>\n",
       "    <tr style=\"text-align: right;\">\n",
       "      <th></th>\n",
       "      <th></th>\n",
       "      <th>Value</th>\n",
       "    </tr>\n",
       "    <tr>\n",
       "      <th>Category</th>\n",
       "      <th>Metric</th>\n",
       "      <th></th>\n",
       "    </tr>\n",
       "  </thead>\n",
       "  <tbody>\n",
       "    <tr>\n",
       "      <th rowspan=\"5\" valign=\"top\">Dribbles</th>\n",
       "      <th>Attempted</th>\n",
       "      <td>160.00</td>\n",
       "    </tr>\n",
       "    <tr>\n",
       "      <th>Completed</th>\n",
       "      <td>71.00</td>\n",
       "    </tr>\n",
       "    <tr>\n",
       "      <th>Success Rate (%)</th>\n",
       "      <td>44.40</td>\n",
       "    </tr>\n",
       "    <tr>\n",
       "      <th>Avg Attempted per Game</th>\n",
       "      <td>3.33</td>\n",
       "    </tr>\n",
       "    <tr>\n",
       "      <th>Avg Completed per Game</th>\n",
       "      <td>1.48</td>\n",
       "    </tr>\n",
       "  </tbody>\n",
       "</table>\n",
       "</div>"
      ],
      "text/plain": [
       "                                  Value\n",
       "Category Metric                        \n",
       "Dribbles Attempted               160.00\n",
       "         Completed                71.00\n",
       "         Success Rate (%)         44.40\n",
       "         Avg Attempted per Game    3.33\n",
       "         Avg Completed per Game    1.48"
      ]
     },
     "execution_count": 12,
     "metadata": {},
     "output_type": "execute_result"
    }
   ],
   "source": [
    "# ✅ EXTENDED SUMMARY – Dribbling Efficiency\n",
    "\n",
    "dribble_rows = []\n",
    "\n",
    "# ⚡ Dribbles attempted and completed\n",
    "dribbles_attempted = df_season[\"Dribbles_attempted\"].sum()\n",
    "dribbles_completed = df_season[\"Dribbles_completed\"].sum()\n",
    "dribble_success_rate = (\n",
    "    round((dribbles_completed / dribbles_attempted) * 100, 1)\n",
    "    if dribbles_attempted > 0 else 0\n",
    ")\n",
    "\n",
    "# 📊 Averages per game\n",
    "avg_dribbles_attempted = round(dribbles_attempted / games_played, 2)\n",
    "avg_dribbles_completed = round(dribbles_completed / games_played, 2)\n",
    "\n",
    "# 📝 Append results\n",
    "dribble_rows.append([\"Dribbles\", \"Attempted\", dribbles_attempted])\n",
    "dribble_rows.append([\"Dribbles\", \"Completed\", dribbles_completed])\n",
    "dribble_rows.append([\"Dribbles\", \"Success Rate (%)\", dribble_success_rate])\n",
    "dribble_rows.append([\"Dribbles\", \"Avg Attempted per Game\", avg_dribbles_attempted])\n",
    "dribble_rows.append([\"Dribbles\", \"Avg Completed per Game\", avg_dribbles_completed])\n",
    "\n",
    "# 📋 Create DataFrame\n",
    "dribble_summary = pd.DataFrame(\n",
    "    dribble_rows, columns=[\"Category\", \"Metric\", \"Value\"]\n",
    ").set_index([\"Category\", \"Metric\"])\n",
    "\n",
    "dribble_summary\n"
   ]
  },
  {
   "cell_type": "code",
   "execution_count": 13,
   "id": "01ddd64d",
   "metadata": {},
   "outputs": [
    {
     "data": {
      "application/vnd.plotly.v1+json": {
       "config": {
        "plotlyServerURL": "https://plot.ly"
       },
       "data": [
        {
         "fill": "toself",
         "name": "Player",
         "r": [
          0.55,
          0.3,
          0.85,
          1.49,
          3.26,
          1.82,
          2.84,
          0.9,
          0.55
         ],
         "theta": [
          "Goals / 90’",
          "Assists / 90’",
          "G+A / 90’",
          "SoT / 90’",
          "SCA / 90’",
          "Progressive passes / 90’",
          "Progressive carries / 90’",
          "Tackles+Interceptions / 90’",
          "Goals / 90’"
         ],
         "type": "scatterpolar"
        }
       ],
       "layout": {
        "polar": {
         "radialaxis": {
          "range": [
           0,
           3.586
          ],
          "visible": true
         }
        },
        "showlegend": false,
        "template": {
         "data": {
          "bar": [
           {
            "error_x": {
             "color": "#2a3f5f"
            },
            "error_y": {
             "color": "#2a3f5f"
            },
            "marker": {
             "line": {
              "color": "#E5ECF6",
              "width": 0.5
             },
             "pattern": {
              "fillmode": "overlay",
              "size": 10,
              "solidity": 0.2
             }
            },
            "type": "bar"
           }
          ],
          "barpolar": [
           {
            "marker": {
             "line": {
              "color": "#E5ECF6",
              "width": 0.5
             },
             "pattern": {
              "fillmode": "overlay",
              "size": 10,
              "solidity": 0.2
             }
            },
            "type": "barpolar"
           }
          ],
          "carpet": [
           {
            "aaxis": {
             "endlinecolor": "#2a3f5f",
             "gridcolor": "white",
             "linecolor": "white",
             "minorgridcolor": "white",
             "startlinecolor": "#2a3f5f"
            },
            "baxis": {
             "endlinecolor": "#2a3f5f",
             "gridcolor": "white",
             "linecolor": "white",
             "minorgridcolor": "white",
             "startlinecolor": "#2a3f5f"
            },
            "type": "carpet"
           }
          ],
          "choropleth": [
           {
            "colorbar": {
             "outlinewidth": 0,
             "ticks": ""
            },
            "type": "choropleth"
           }
          ],
          "contour": [
           {
            "colorbar": {
             "outlinewidth": 0,
             "ticks": ""
            },
            "colorscale": [
             [
              0,
              "#0d0887"
             ],
             [
              0.1111111111111111,
              "#46039f"
             ],
             [
              0.2222222222222222,
              "#7201a8"
             ],
             [
              0.3333333333333333,
              "#9c179e"
             ],
             [
              0.4444444444444444,
              "#bd3786"
             ],
             [
              0.5555555555555556,
              "#d8576b"
             ],
             [
              0.6666666666666666,
              "#ed7953"
             ],
             [
              0.7777777777777778,
              "#fb9f3a"
             ],
             [
              0.8888888888888888,
              "#fdca26"
             ],
             [
              1,
              "#f0f921"
             ]
            ],
            "type": "contour"
           }
          ],
          "contourcarpet": [
           {
            "colorbar": {
             "outlinewidth": 0,
             "ticks": ""
            },
            "type": "contourcarpet"
           }
          ],
          "heatmap": [
           {
            "colorbar": {
             "outlinewidth": 0,
             "ticks": ""
            },
            "colorscale": [
             [
              0,
              "#0d0887"
             ],
             [
              0.1111111111111111,
              "#46039f"
             ],
             [
              0.2222222222222222,
              "#7201a8"
             ],
             [
              0.3333333333333333,
              "#9c179e"
             ],
             [
              0.4444444444444444,
              "#bd3786"
             ],
             [
              0.5555555555555556,
              "#d8576b"
             ],
             [
              0.6666666666666666,
              "#ed7953"
             ],
             [
              0.7777777777777778,
              "#fb9f3a"
             ],
             [
              0.8888888888888888,
              "#fdca26"
             ],
             [
              1,
              "#f0f921"
             ]
            ],
            "type": "heatmap"
           }
          ],
          "histogram": [
           {
            "marker": {
             "pattern": {
              "fillmode": "overlay",
              "size": 10,
              "solidity": 0.2
             }
            },
            "type": "histogram"
           }
          ],
          "histogram2d": [
           {
            "colorbar": {
             "outlinewidth": 0,
             "ticks": ""
            },
            "colorscale": [
             [
              0,
              "#0d0887"
             ],
             [
              0.1111111111111111,
              "#46039f"
             ],
             [
              0.2222222222222222,
              "#7201a8"
             ],
             [
              0.3333333333333333,
              "#9c179e"
             ],
             [
              0.4444444444444444,
              "#bd3786"
             ],
             [
              0.5555555555555556,
              "#d8576b"
             ],
             [
              0.6666666666666666,
              "#ed7953"
             ],
             [
              0.7777777777777778,
              "#fb9f3a"
             ],
             [
              0.8888888888888888,
              "#fdca26"
             ],
             [
              1,
              "#f0f921"
             ]
            ],
            "type": "histogram2d"
           }
          ],
          "histogram2dcontour": [
           {
            "colorbar": {
             "outlinewidth": 0,
             "ticks": ""
            },
            "colorscale": [
             [
              0,
              "#0d0887"
             ],
             [
              0.1111111111111111,
              "#46039f"
             ],
             [
              0.2222222222222222,
              "#7201a8"
             ],
             [
              0.3333333333333333,
              "#9c179e"
             ],
             [
              0.4444444444444444,
              "#bd3786"
             ],
             [
              0.5555555555555556,
              "#d8576b"
             ],
             [
              0.6666666666666666,
              "#ed7953"
             ],
             [
              0.7777777777777778,
              "#fb9f3a"
             ],
             [
              0.8888888888888888,
              "#fdca26"
             ],
             [
              1,
              "#f0f921"
             ]
            ],
            "type": "histogram2dcontour"
           }
          ],
          "mesh3d": [
           {
            "colorbar": {
             "outlinewidth": 0,
             "ticks": ""
            },
            "type": "mesh3d"
           }
          ],
          "parcoords": [
           {
            "line": {
             "colorbar": {
              "outlinewidth": 0,
              "ticks": ""
             }
            },
            "type": "parcoords"
           }
          ],
          "pie": [
           {
            "automargin": true,
            "type": "pie"
           }
          ],
          "scatter": [
           {
            "fillpattern": {
             "fillmode": "overlay",
             "size": 10,
             "solidity": 0.2
            },
            "type": "scatter"
           }
          ],
          "scatter3d": [
           {
            "line": {
             "colorbar": {
              "outlinewidth": 0,
              "ticks": ""
             }
            },
            "marker": {
             "colorbar": {
              "outlinewidth": 0,
              "ticks": ""
             }
            },
            "type": "scatter3d"
           }
          ],
          "scattercarpet": [
           {
            "marker": {
             "colorbar": {
              "outlinewidth": 0,
              "ticks": ""
             }
            },
            "type": "scattercarpet"
           }
          ],
          "scattergeo": [
           {
            "marker": {
             "colorbar": {
              "outlinewidth": 0,
              "ticks": ""
             }
            },
            "type": "scattergeo"
           }
          ],
          "scattergl": [
           {
            "marker": {
             "colorbar": {
              "outlinewidth": 0,
              "ticks": ""
             }
            },
            "type": "scattergl"
           }
          ],
          "scattermap": [
           {
            "marker": {
             "colorbar": {
              "outlinewidth": 0,
              "ticks": ""
             }
            },
            "type": "scattermap"
           }
          ],
          "scattermapbox": [
           {
            "marker": {
             "colorbar": {
              "outlinewidth": 0,
              "ticks": ""
             }
            },
            "type": "scattermapbox"
           }
          ],
          "scatterpolar": [
           {
            "marker": {
             "colorbar": {
              "outlinewidth": 0,
              "ticks": ""
             }
            },
            "type": "scatterpolar"
           }
          ],
          "scatterpolargl": [
           {
            "marker": {
             "colorbar": {
              "outlinewidth": 0,
              "ticks": ""
             }
            },
            "type": "scatterpolargl"
           }
          ],
          "scatterternary": [
           {
            "marker": {
             "colorbar": {
              "outlinewidth": 0,
              "ticks": ""
             }
            },
            "type": "scatterternary"
           }
          ],
          "surface": [
           {
            "colorbar": {
             "outlinewidth": 0,
             "ticks": ""
            },
            "colorscale": [
             [
              0,
              "#0d0887"
             ],
             [
              0.1111111111111111,
              "#46039f"
             ],
             [
              0.2222222222222222,
              "#7201a8"
             ],
             [
              0.3333333333333333,
              "#9c179e"
             ],
             [
              0.4444444444444444,
              "#bd3786"
             ],
             [
              0.5555555555555556,
              "#d8576b"
             ],
             [
              0.6666666666666666,
              "#ed7953"
             ],
             [
              0.7777777777777778,
              "#fb9f3a"
             ],
             [
              0.8888888888888888,
              "#fdca26"
             ],
             [
              1,
              "#f0f921"
             ]
            ],
            "type": "surface"
           }
          ],
          "table": [
           {
            "cells": {
             "fill": {
              "color": "#EBF0F8"
             },
             "line": {
              "color": "white"
             }
            },
            "header": {
             "fill": {
              "color": "#C8D4E3"
             },
             "line": {
              "color": "white"
             }
            },
            "type": "table"
           }
          ]
         },
         "layout": {
          "annotationdefaults": {
           "arrowcolor": "#2a3f5f",
           "arrowhead": 0,
           "arrowwidth": 1
          },
          "autotypenumbers": "strict",
          "coloraxis": {
           "colorbar": {
            "outlinewidth": 0,
            "ticks": ""
           }
          },
          "colorscale": {
           "diverging": [
            [
             0,
             "#8e0152"
            ],
            [
             0.1,
             "#c51b7d"
            ],
            [
             0.2,
             "#de77ae"
            ],
            [
             0.3,
             "#f1b6da"
            ],
            [
             0.4,
             "#fde0ef"
            ],
            [
             0.5,
             "#f7f7f7"
            ],
            [
             0.6,
             "#e6f5d0"
            ],
            [
             0.7,
             "#b8e186"
            ],
            [
             0.8,
             "#7fbc41"
            ],
            [
             0.9,
             "#4d9221"
            ],
            [
             1,
             "#276419"
            ]
           ],
           "sequential": [
            [
             0,
             "#0d0887"
            ],
            [
             0.1111111111111111,
             "#46039f"
            ],
            [
             0.2222222222222222,
             "#7201a8"
            ],
            [
             0.3333333333333333,
             "#9c179e"
            ],
            [
             0.4444444444444444,
             "#bd3786"
            ],
            [
             0.5555555555555556,
             "#d8576b"
            ],
            [
             0.6666666666666666,
             "#ed7953"
            ],
            [
             0.7777777777777778,
             "#fb9f3a"
            ],
            [
             0.8888888888888888,
             "#fdca26"
            ],
            [
             1,
             "#f0f921"
            ]
           ],
           "sequentialminus": [
            [
             0,
             "#0d0887"
            ],
            [
             0.1111111111111111,
             "#46039f"
            ],
            [
             0.2222222222222222,
             "#7201a8"
            ],
            [
             0.3333333333333333,
             "#9c179e"
            ],
            [
             0.4444444444444444,
             "#bd3786"
            ],
            [
             0.5555555555555556,
             "#d8576b"
            ],
            [
             0.6666666666666666,
             "#ed7953"
            ],
            [
             0.7777777777777778,
             "#fb9f3a"
            ],
            [
             0.8888888888888888,
             "#fdca26"
            ],
            [
             1,
             "#f0f921"
            ]
           ]
          },
          "colorway": [
           "#636efa",
           "#EF553B",
           "#00cc96",
           "#ab63fa",
           "#FFA15A",
           "#19d3f3",
           "#FF6692",
           "#B6E880",
           "#FF97FF",
           "#FECB52"
          ],
          "font": {
           "color": "#2a3f5f"
          },
          "geo": {
           "bgcolor": "white",
           "lakecolor": "white",
           "landcolor": "#E5ECF6",
           "showlakes": true,
           "showland": true,
           "subunitcolor": "white"
          },
          "hoverlabel": {
           "align": "left"
          },
          "hovermode": "closest",
          "mapbox": {
           "style": "light"
          },
          "paper_bgcolor": "white",
          "plot_bgcolor": "#E5ECF6",
          "polar": {
           "angularaxis": {
            "gridcolor": "white",
            "linecolor": "white",
            "ticks": ""
           },
           "bgcolor": "#E5ECF6",
           "radialaxis": {
            "gridcolor": "white",
            "linecolor": "white",
            "ticks": ""
           }
          },
          "scene": {
           "xaxis": {
            "backgroundcolor": "#E5ECF6",
            "gridcolor": "white",
            "gridwidth": 2,
            "linecolor": "white",
            "showbackground": true,
            "ticks": "",
            "zerolinecolor": "white"
           },
           "yaxis": {
            "backgroundcolor": "#E5ECF6",
            "gridcolor": "white",
            "gridwidth": 2,
            "linecolor": "white",
            "showbackground": true,
            "ticks": "",
            "zerolinecolor": "white"
           },
           "zaxis": {
            "backgroundcolor": "#E5ECF6",
            "gridcolor": "white",
            "gridwidth": 2,
            "linecolor": "white",
            "showbackground": true,
            "ticks": "",
            "zerolinecolor": "white"
           }
          },
          "shapedefaults": {
           "line": {
            "color": "#2a3f5f"
           }
          },
          "ternary": {
           "aaxis": {
            "gridcolor": "white",
            "linecolor": "white",
            "ticks": ""
           },
           "baxis": {
            "gridcolor": "white",
            "linecolor": "white",
            "ticks": ""
           },
           "bgcolor": "#E5ECF6",
           "caxis": {
            "gridcolor": "white",
            "linecolor": "white",
            "ticks": ""
           }
          },
          "title": {
           "x": 0.05
          },
          "xaxis": {
           "automargin": true,
           "gridcolor": "white",
           "linecolor": "white",
           "ticks": "",
           "title": {
            "standoff": 15
           },
           "zerolinecolor": "white",
           "zerolinewidth": 2
          },
          "yaxis": {
           "automargin": true,
           "gridcolor": "white",
           "linecolor": "white",
           "ticks": "",
           "title": {
            "standoff": 15
           },
           "zerolinecolor": "white",
           "zerolinewidth": 2
          }
         }
        },
        "title": {
         "text": "Radar Chart – Player Output per 90 Minutes"
        }
       }
      }
     },
     "metadata": {},
     "output_type": "display_data"
    }
   ],
   "source": [
    "import plotly.graph_objects as go\n",
    "\n",
    "# Ensure you have calculated these beforehand\n",
    "minutes_played = df_season[\"Minutes\"].sum()\n",
    "games_played = df_season[df_season[\"Minutes\"] > 0].shape[0]\n",
    "minutes_per_game = minutes_played / games_played if games_played > 0 else 0\n",
    "\n",
    "# Core stats\n",
    "goals = df_season[\"Goals\"].sum()\n",
    "assists = df_season[\"Assists\"].sum()\n",
    "ga = goals + assists\n",
    "\n",
    "shots_on_target = df_season[\"Shots_on_target\"].sum()\n",
    "sca = df_season[\"Shot_creating_actions\"].sum()\n",
    "prog_passes = df_season[\"Progressive_passes\"].sum()\n",
    "prog_carries = df_season[\"Progressive_control\"].sum()\n",
    "tackles = df_season[\"Tackles\"].sum()\n",
    "interceptions = df_season[\"Interceptions\"].sum()\n",
    "\n",
    "# Metrics per 90'\n",
    "goals_per90 = round(goals / minutes_played * 90, 2)\n",
    "assists_per90 = round(assists / minutes_played * 90, 2)\n",
    "ga_per90 = round(ga / minutes_played * 90, 2)\n",
    "shots_on_target_per90 = round(shots_on_target / minutes_played * 90, 2)\n",
    "sca_per90 = round(sca / minutes_played * 90, 2)\n",
    "prog_passes_per90 = round(prog_passes / minutes_played * 90, 2)\n",
    "prog_carries_per90 = round(prog_carries / minutes_played * 90, 2)\n",
    "tackles_int_per90 = round((tackles + interceptions) / minutes_played * 90, 2)\n",
    "\n",
    "# Radar values\n",
    "labels = [\n",
    "    \"Goals / 90’\", \"Assists / 90’\", \"G+A / 90’\", \"SoT / 90’\",\n",
    "    \"SCA / 90’\", \"Progressive passes / 90’\", \"Progressive carries / 90’\", \"Tackles+Interceptions / 90’\"\n",
    "]\n",
    "values = [\n",
    "    goals_per90, assists_per90, ga_per90, shots_on_target_per90,\n",
    "    sca_per90, prog_passes_per90, prog_carries_per90, tackles_int_per90\n",
    "]\n",
    "\n",
    "# Close the radar chart loop\n",
    "labels += [labels[0]]\n",
    "values += [values[0]]\n",
    "\n",
    "# Plotly Radar Chart\n",
    "fig = go.Figure()\n",
    "fig.add_trace(go.Scatterpolar(\n",
    "    r=values,\n",
    "    theta=labels,\n",
    "    fill='toself',\n",
    "    name='Player'\n",
    "))\n",
    "fig.update_layout(\n",
    "    polar=dict(\n",
    "        radialaxis=dict(visible=True, range=[0, max(values) * 1.1])\n",
    "    ),\n",
    "    showlegend=False,\n",
    "    title=\"Radar Chart – Player Output per 90 Minutes\"\n",
    ")\n",
    "fig.show()\n"
   ]
  },
  {
   "cell_type": "code",
   "execution_count": 14,
   "id": "79399ea9",
   "metadata": {},
   "outputs": [
    {
     "name": "stdout",
     "output_type": "stream",
     "text": [
      "📅 Fechas 2023–24: 2023-08-12 00:00:00 → 2024-05-18 00:00:00\n",
      "📅 Fechas 2024–25: 2024-08-19 00:00:00 → 2025-05-17 00:00:00\n"
     ]
    }
   ],
   "source": [
    "print(\"📅 Fechas 2023–24:\", df_season_prev[\"Date\"].min(), \"→\", df_season_prev[\"Date\"].max())\n",
    "print(\"📅 Fechas 2024–25:\", df_season[\"Date\"].min(), \"→\", df_season[\"Date\"].max())\n"
   ]
  },
  {
   "cell_type": "code",
   "execution_count": 15,
   "id": "abedd6d7",
   "metadata": {},
   "outputs": [
    {
     "name": "stdout",
     "output_type": "stream",
     "text": [
      "📌 Partidos 23-24: 17 | 24-25: 48\n"
     ]
    }
   ],
   "source": [
    "games_prev = df_season_prev[df_season_prev[\"Minutes\"] > 0].shape[0]\n",
    "games_current = df_season[df_season[\"Minutes\"] > 0].shape[0]\n",
    "print(f\"📌 Partidos 23-24: {games_prev} | 24-25: {games_current}\")\n"
   ]
  },
  {
   "cell_type": "code",
   "execution_count": 16,
   "id": "ab3217bb",
   "metadata": {},
   "outputs": [],
   "source": [
    "def get_stats_per_90(df, minutes_threshold=1):\n",
    "    df_valid = df[df[\"Minutes\"].astype(float) >= minutes_threshold].copy()\n",
    "    total_minutes = df_valid[\"Minutes\"].astype(float).sum() or 1  # Evitar división entre cero\n",
    "\n",
    "    return {\n",
    "        \"Goals / 90'\": round(df_valid[\"Goals\"].astype(float).sum() / total_minutes * 90, 2),\n",
    "        \"Assists / 90'\": round(df_valid[\"Assists\"].astype(float).sum() / total_minutes * 90, 2),\n",
    "        \"G+A / 90'\": round(\n",
    "            (df_valid[\"Goals\"].astype(float).sum() + df_valid[\"Assists\"].astype(float).sum()) / total_minutes * 90, 2\n",
    "        ),\n",
    "        \"SoT %\": round(\n",
    "            df_valid[\"Shots_on_target\"].astype(float).sum() / df_valid[\"Shots\"].astype(float).sum() * 100, 1\n",
    "        ) if df_valid[\"Shots\"].astype(float).sum() > 0 else 0,\n",
    "        \"Pass acc. %\": round(\n",
    "            df_valid[\"Passes_completed\"].astype(float).sum() / df_valid[\"Passes_att\"].astype(float).sum() * 100, 1\n",
    "        ) if df_valid[\"Passes_att\"].astype(float).sum() > 0 else 0,\n",
    "        \"Progressive passes / 90'\": round(df_valid[\"Progressive_passes\"].astype(float).sum() / total_minutes * 90, 2),\n",
    "        \"Progressive carries / 90'\": round(df_valid[\"Progressive_control\"].astype(float).sum() / total_minutes * 90, 2),\n",
    "        \"Dribble success %\": round(\n",
    "            df_valid[\"Dribbles_completed\"].astype(float).sum() /\n",
    "            df_valid[\"Dribbles_attempted\"].astype(float).sum() * 100, 1\n",
    "        ) if df_valid[\"Dribbles_attempted\"].astype(float).sum() > 0 else 0,\n",
    "        \"SCA / 90'\": round(df_valid[\"Shot_creating_actions\"].astype(float).sum() / total_minutes * 90, 2),\n",
    "        \"Tackles+Interceptions / 90'\": round(\n",
    "            (df_valid[\"Tackles\"].astype(float).sum() + df_valid[\"Interceptions\"].astype(float).sum()) / total_minutes * 90, 2\n",
    "        )\n",
    "    }\n"
   ]
  },
  {
   "cell_type": "code",
   "execution_count": 17,
   "id": "5fd0408d",
   "metadata": {},
   "outputs": [],
   "source": [
    "stats_prev = get_stats_per_90(df_season_prev)\n",
    "stats_last = get_stats_per_90(df_season)\n"
   ]
  },
  {
   "cell_type": "code",
   "execution_count": 18,
   "id": "bdf7b3b2",
   "metadata": {},
   "outputs": [
    {
     "data": {
      "text/html": [
       "<div>\n",
       "<style scoped>\n",
       "    .dataframe tbody tr th:only-of-type {\n",
       "        vertical-align: middle;\n",
       "    }\n",
       "\n",
       "    .dataframe tbody tr th {\n",
       "        vertical-align: top;\n",
       "    }\n",
       "\n",
       "    .dataframe thead th {\n",
       "        text-align: right;\n",
       "    }\n",
       "</style>\n",
       "<table border=\"1\" class=\"dataframe\">\n",
       "  <thead>\n",
       "    <tr style=\"text-align: right;\">\n",
       "      <th></th>\n",
       "      <th>Metric</th>\n",
       "      <th>2023-24</th>\n",
       "      <th>2024-25</th>\n",
       "    </tr>\n",
       "  </thead>\n",
       "  <tbody>\n",
       "    <tr>\n",
       "      <th>0</th>\n",
       "      <td>Goals / 90'</td>\n",
       "      <td>0.46</td>\n",
       "      <td>0.55</td>\n",
       "    </tr>\n",
       "    <tr>\n",
       "      <th>1</th>\n",
       "      <td>Assists / 90'</td>\n",
       "      <td>0.23</td>\n",
       "      <td>0.30</td>\n",
       "    </tr>\n",
       "    <tr>\n",
       "      <th>2</th>\n",
       "      <td>G+A / 90'</td>\n",
       "      <td>0.69</td>\n",
       "      <td>0.85</td>\n",
       "    </tr>\n",
       "    <tr>\n",
       "      <th>3</th>\n",
       "      <td>SoT %</td>\n",
       "      <td>29.00</td>\n",
       "      <td>39.70</td>\n",
       "    </tr>\n",
       "    <tr>\n",
       "      <th>4</th>\n",
       "      <td>Pass acc. %</td>\n",
       "      <td>67.30</td>\n",
       "      <td>75.30</td>\n",
       "    </tr>\n",
       "    <tr>\n",
       "      <th>5</th>\n",
       "      <td>Progressive passes / 90'</td>\n",
       "      <td>1.15</td>\n",
       "      <td>1.82</td>\n",
       "    </tr>\n",
       "    <tr>\n",
       "      <th>6</th>\n",
       "      <td>Progressive carries / 90'</td>\n",
       "      <td>1.96</td>\n",
       "      <td>2.84</td>\n",
       "    </tr>\n",
       "    <tr>\n",
       "      <th>7</th>\n",
       "      <td>Dribble success %</td>\n",
       "      <td>46.20</td>\n",
       "      <td>44.40</td>\n",
       "    </tr>\n",
       "    <tr>\n",
       "      <th>8</th>\n",
       "      <td>SCA / 90'</td>\n",
       "      <td>3.23</td>\n",
       "      <td>3.26</td>\n",
       "    </tr>\n",
       "    <tr>\n",
       "      <th>9</th>\n",
       "      <td>Tackles+Interceptions / 90'</td>\n",
       "      <td>1.50</td>\n",
       "      <td>0.90</td>\n",
       "    </tr>\n",
       "  </tbody>\n",
       "</table>\n",
       "</div>"
      ],
      "text/plain": [
       "                        Metric  2023-24  2024-25\n",
       "0                  Goals / 90'     0.46     0.55\n",
       "1                Assists / 90'     0.23     0.30\n",
       "2                    G+A / 90'     0.69     0.85\n",
       "3                        SoT %    29.00    39.70\n",
       "4                  Pass acc. %    67.30    75.30\n",
       "5     Progressive passes / 90'     1.15     1.82\n",
       "6    Progressive carries / 90'     1.96     2.84\n",
       "7            Dribble success %    46.20    44.40\n",
       "8                    SCA / 90'     3.23     3.26\n",
       "9  Tackles+Interceptions / 90'     1.50     0.90"
      ]
     },
     "execution_count": 18,
     "metadata": {},
     "output_type": "execute_result"
    }
   ],
   "source": [
    "import pandas as pd\n",
    "\n",
    "# Convert dicts to DataFrame\n",
    "radar_df = pd.DataFrame([stats_prev, stats_last], index=[\"2023-24\", \"2024-25\"]).T.reset_index()\n",
    "radar_df.columns = [\"Metric\", \"2023-24\", \"2024-25\"]\n",
    "radar_df\n"
   ]
  },
  {
   "cell_type": "code",
   "execution_count": 22,
   "id": "09b70b72",
   "metadata": {},
   "outputs": [
    {
     "data": {
      "application/vnd.plotly.v1+json": {
       "config": {
        "plotlyServerURL": "https://plot.ly"
       },
       "data": [
        {
         "fill": "toself",
         "line": {
          "color": "rgba(44, 160, 101, 1)"
         },
         "name": "2024–2025 Season",
         "r": [
          0.28,
          0.41,
          0.345,
          0.42100000000000004,
          0.8044444444444445,
          0.31,
          0.38666666666666666,
          0.615,
          0.58,
          0.22000000000000003,
          0.28
         ],
         "theta": [
          "Goals / 90’",
          "Assists / 90’",
          "G+A / 90’",
          "SoT %",
          "Pass acc. %",
          "Progressive passes / 90’",
          "Progressive carries / 90’",
          "Dribble success %",
          "SCA / 90’",
          "Tackles+Interceptions / 90’",
          "Goals / 90’"
         ],
         "type": "scatterpolar"
        },
        {
         "fill": "toself",
         "line": {
          "color": "rgba(255, 99, 71, 1)"
         },
         "name": "2023–2024 Season",
         "r": [
          0.19,
          0.15,
          0.17,
          0.305,
          0.7333333333333333,
          0.21000000000000002,
          0.29333333333333333,
          0.47200000000000003,
          0.36,
          0.27999999999999997,
          0.19
         ],
         "theta": [
          "Goals / 90’",
          "Assists / 90’",
          "G+A / 90’",
          "SoT %",
          "Pass acc. %",
          "Progressive passes / 90’",
          "Progressive carries / 90’",
          "Dribble success %",
          "SCA / 90’",
          "Tackles+Interceptions / 90’",
          "Goals / 90’"
         ],
         "type": "scatterpolar"
        }
       ],
       "layout": {
        "polar": {
         "radialaxis": {
          "range": [
           0,
           1
          ],
          "tickvals": [
           0,
           0.5,
           1
          ],
          "visible": true
         }
        },
        "showlegend": true,
        "template": {
         "data": {
          "bar": [
           {
            "error_x": {
             "color": "#2a3f5f"
            },
            "error_y": {
             "color": "#2a3f5f"
            },
            "marker": {
             "line": {
              "color": "#E5ECF6",
              "width": 0.5
             },
             "pattern": {
              "fillmode": "overlay",
              "size": 10,
              "solidity": 0.2
             }
            },
            "type": "bar"
           }
          ],
          "barpolar": [
           {
            "marker": {
             "line": {
              "color": "#E5ECF6",
              "width": 0.5
             },
             "pattern": {
              "fillmode": "overlay",
              "size": 10,
              "solidity": 0.2
             }
            },
            "type": "barpolar"
           }
          ],
          "carpet": [
           {
            "aaxis": {
             "endlinecolor": "#2a3f5f",
             "gridcolor": "white",
             "linecolor": "white",
             "minorgridcolor": "white",
             "startlinecolor": "#2a3f5f"
            },
            "baxis": {
             "endlinecolor": "#2a3f5f",
             "gridcolor": "white",
             "linecolor": "white",
             "minorgridcolor": "white",
             "startlinecolor": "#2a3f5f"
            },
            "type": "carpet"
           }
          ],
          "choropleth": [
           {
            "colorbar": {
             "outlinewidth": 0,
             "ticks": ""
            },
            "type": "choropleth"
           }
          ],
          "contour": [
           {
            "colorbar": {
             "outlinewidth": 0,
             "ticks": ""
            },
            "colorscale": [
             [
              0,
              "#0d0887"
             ],
             [
              0.1111111111111111,
              "#46039f"
             ],
             [
              0.2222222222222222,
              "#7201a8"
             ],
             [
              0.3333333333333333,
              "#9c179e"
             ],
             [
              0.4444444444444444,
              "#bd3786"
             ],
             [
              0.5555555555555556,
              "#d8576b"
             ],
             [
              0.6666666666666666,
              "#ed7953"
             ],
             [
              0.7777777777777778,
              "#fb9f3a"
             ],
             [
              0.8888888888888888,
              "#fdca26"
             ],
             [
              1,
              "#f0f921"
             ]
            ],
            "type": "contour"
           }
          ],
          "contourcarpet": [
           {
            "colorbar": {
             "outlinewidth": 0,
             "ticks": ""
            },
            "type": "contourcarpet"
           }
          ],
          "heatmap": [
           {
            "colorbar": {
             "outlinewidth": 0,
             "ticks": ""
            },
            "colorscale": [
             [
              0,
              "#0d0887"
             ],
             [
              0.1111111111111111,
              "#46039f"
             ],
             [
              0.2222222222222222,
              "#7201a8"
             ],
             [
              0.3333333333333333,
              "#9c179e"
             ],
             [
              0.4444444444444444,
              "#bd3786"
             ],
             [
              0.5555555555555556,
              "#d8576b"
             ],
             [
              0.6666666666666666,
              "#ed7953"
             ],
             [
              0.7777777777777778,
              "#fb9f3a"
             ],
             [
              0.8888888888888888,
              "#fdca26"
             ],
             [
              1,
              "#f0f921"
             ]
            ],
            "type": "heatmap"
           }
          ],
          "histogram": [
           {
            "marker": {
             "pattern": {
              "fillmode": "overlay",
              "size": 10,
              "solidity": 0.2
             }
            },
            "type": "histogram"
           }
          ],
          "histogram2d": [
           {
            "colorbar": {
             "outlinewidth": 0,
             "ticks": ""
            },
            "colorscale": [
             [
              0,
              "#0d0887"
             ],
             [
              0.1111111111111111,
              "#46039f"
             ],
             [
              0.2222222222222222,
              "#7201a8"
             ],
             [
              0.3333333333333333,
              "#9c179e"
             ],
             [
              0.4444444444444444,
              "#bd3786"
             ],
             [
              0.5555555555555556,
              "#d8576b"
             ],
             [
              0.6666666666666666,
              "#ed7953"
             ],
             [
              0.7777777777777778,
              "#fb9f3a"
             ],
             [
              0.8888888888888888,
              "#fdca26"
             ],
             [
              1,
              "#f0f921"
             ]
            ],
            "type": "histogram2d"
           }
          ],
          "histogram2dcontour": [
           {
            "colorbar": {
             "outlinewidth": 0,
             "ticks": ""
            },
            "colorscale": [
             [
              0,
              "#0d0887"
             ],
             [
              0.1111111111111111,
              "#46039f"
             ],
             [
              0.2222222222222222,
              "#7201a8"
             ],
             [
              0.3333333333333333,
              "#9c179e"
             ],
             [
              0.4444444444444444,
              "#bd3786"
             ],
             [
              0.5555555555555556,
              "#d8576b"
             ],
             [
              0.6666666666666666,
              "#ed7953"
             ],
             [
              0.7777777777777778,
              "#fb9f3a"
             ],
             [
              0.8888888888888888,
              "#fdca26"
             ],
             [
              1,
              "#f0f921"
             ]
            ],
            "type": "histogram2dcontour"
           }
          ],
          "mesh3d": [
           {
            "colorbar": {
             "outlinewidth": 0,
             "ticks": ""
            },
            "type": "mesh3d"
           }
          ],
          "parcoords": [
           {
            "line": {
             "colorbar": {
              "outlinewidth": 0,
              "ticks": ""
             }
            },
            "type": "parcoords"
           }
          ],
          "pie": [
           {
            "automargin": true,
            "type": "pie"
           }
          ],
          "scatter": [
           {
            "fillpattern": {
             "fillmode": "overlay",
             "size": 10,
             "solidity": 0.2
            },
            "type": "scatter"
           }
          ],
          "scatter3d": [
           {
            "line": {
             "colorbar": {
              "outlinewidth": 0,
              "ticks": ""
             }
            },
            "marker": {
             "colorbar": {
              "outlinewidth": 0,
              "ticks": ""
             }
            },
            "type": "scatter3d"
           }
          ],
          "scattercarpet": [
           {
            "marker": {
             "colorbar": {
              "outlinewidth": 0,
              "ticks": ""
             }
            },
            "type": "scattercarpet"
           }
          ],
          "scattergeo": [
           {
            "marker": {
             "colorbar": {
              "outlinewidth": 0,
              "ticks": ""
             }
            },
            "type": "scattergeo"
           }
          ],
          "scattergl": [
           {
            "marker": {
             "colorbar": {
              "outlinewidth": 0,
              "ticks": ""
             }
            },
            "type": "scattergl"
           }
          ],
          "scattermap": [
           {
            "marker": {
             "colorbar": {
              "outlinewidth": 0,
              "ticks": ""
             }
            },
            "type": "scattermap"
           }
          ],
          "scattermapbox": [
           {
            "marker": {
             "colorbar": {
              "outlinewidth": 0,
              "ticks": ""
             }
            },
            "type": "scattermapbox"
           }
          ],
          "scatterpolar": [
           {
            "marker": {
             "colorbar": {
              "outlinewidth": 0,
              "ticks": ""
             }
            },
            "type": "scatterpolar"
           }
          ],
          "scatterpolargl": [
           {
            "marker": {
             "colorbar": {
              "outlinewidth": 0,
              "ticks": ""
             }
            },
            "type": "scatterpolargl"
           }
          ],
          "scatterternary": [
           {
            "marker": {
             "colorbar": {
              "outlinewidth": 0,
              "ticks": ""
             }
            },
            "type": "scatterternary"
           }
          ],
          "surface": [
           {
            "colorbar": {
             "outlinewidth": 0,
             "ticks": ""
            },
            "colorscale": [
             [
              0,
              "#0d0887"
             ],
             [
              0.1111111111111111,
              "#46039f"
             ],
             [
              0.2222222222222222,
              "#7201a8"
             ],
             [
              0.3333333333333333,
              "#9c179e"
             ],
             [
              0.4444444444444444,
              "#bd3786"
             ],
             [
              0.5555555555555556,
              "#d8576b"
             ],
             [
              0.6666666666666666,
              "#ed7953"
             ],
             [
              0.7777777777777778,
              "#fb9f3a"
             ],
             [
              0.8888888888888888,
              "#fdca26"
             ],
             [
              1,
              "#f0f921"
             ]
            ],
            "type": "surface"
           }
          ],
          "table": [
           {
            "cells": {
             "fill": {
              "color": "#EBF0F8"
             },
             "line": {
              "color": "white"
             }
            },
            "header": {
             "fill": {
              "color": "#C8D4E3"
             },
             "line": {
              "color": "white"
             }
            },
            "type": "table"
           }
          ]
         },
         "layout": {
          "annotationdefaults": {
           "arrowcolor": "#2a3f5f",
           "arrowhead": 0,
           "arrowwidth": 1
          },
          "autotypenumbers": "strict",
          "coloraxis": {
           "colorbar": {
            "outlinewidth": 0,
            "ticks": ""
           }
          },
          "colorscale": {
           "diverging": [
            [
             0,
             "#8e0152"
            ],
            [
             0.1,
             "#c51b7d"
            ],
            [
             0.2,
             "#de77ae"
            ],
            [
             0.3,
             "#f1b6da"
            ],
            [
             0.4,
             "#fde0ef"
            ],
            [
             0.5,
             "#f7f7f7"
            ],
            [
             0.6,
             "#e6f5d0"
            ],
            [
             0.7,
             "#b8e186"
            ],
            [
             0.8,
             "#7fbc41"
            ],
            [
             0.9,
             "#4d9221"
            ],
            [
             1,
             "#276419"
            ]
           ],
           "sequential": [
            [
             0,
             "#0d0887"
            ],
            [
             0.1111111111111111,
             "#46039f"
            ],
            [
             0.2222222222222222,
             "#7201a8"
            ],
            [
             0.3333333333333333,
             "#9c179e"
            ],
            [
             0.4444444444444444,
             "#bd3786"
            ],
            [
             0.5555555555555556,
             "#d8576b"
            ],
            [
             0.6666666666666666,
             "#ed7953"
            ],
            [
             0.7777777777777778,
             "#fb9f3a"
            ],
            [
             0.8888888888888888,
             "#fdca26"
            ],
            [
             1,
             "#f0f921"
            ]
           ],
           "sequentialminus": [
            [
             0,
             "#0d0887"
            ],
            [
             0.1111111111111111,
             "#46039f"
            ],
            [
             0.2222222222222222,
             "#7201a8"
            ],
            [
             0.3333333333333333,
             "#9c179e"
            ],
            [
             0.4444444444444444,
             "#bd3786"
            ],
            [
             0.5555555555555556,
             "#d8576b"
            ],
            [
             0.6666666666666666,
             "#ed7953"
            ],
            [
             0.7777777777777778,
             "#fb9f3a"
            ],
            [
             0.8888888888888888,
             "#fdca26"
            ],
            [
             1,
             "#f0f921"
            ]
           ]
          },
          "colorway": [
           "#636efa",
           "#EF553B",
           "#00cc96",
           "#ab63fa",
           "#FFA15A",
           "#19d3f3",
           "#FF6692",
           "#B6E880",
           "#FF97FF",
           "#FECB52"
          ],
          "font": {
           "color": "#2a3f5f"
          },
          "geo": {
           "bgcolor": "white",
           "lakecolor": "white",
           "landcolor": "#E5ECF6",
           "showlakes": true,
           "showland": true,
           "subunitcolor": "white"
          },
          "hoverlabel": {
           "align": "left"
          },
          "hovermode": "closest",
          "mapbox": {
           "style": "light"
          },
          "paper_bgcolor": "white",
          "plot_bgcolor": "#E5ECF6",
          "polar": {
           "angularaxis": {
            "gridcolor": "white",
            "linecolor": "white",
            "ticks": ""
           },
           "bgcolor": "#E5ECF6",
           "radialaxis": {
            "gridcolor": "white",
            "linecolor": "white",
            "ticks": ""
           }
          },
          "scene": {
           "xaxis": {
            "backgroundcolor": "#E5ECF6",
            "gridcolor": "white",
            "gridwidth": 2,
            "linecolor": "white",
            "showbackground": true,
            "ticks": "",
            "zerolinecolor": "white"
           },
           "yaxis": {
            "backgroundcolor": "#E5ECF6",
            "gridcolor": "white",
            "gridwidth": 2,
            "linecolor": "white",
            "showbackground": true,
            "ticks": "",
            "zerolinecolor": "white"
           },
           "zaxis": {
            "backgroundcolor": "#E5ECF6",
            "gridcolor": "white",
            "gridwidth": 2,
            "linecolor": "white",
            "showbackground": true,
            "ticks": "",
            "zerolinecolor": "white"
           }
          },
          "shapedefaults": {
           "line": {
            "color": "#2a3f5f"
           }
          },
          "ternary": {
           "aaxis": {
            "gridcolor": "white",
            "linecolor": "white",
            "ticks": ""
           },
           "baxis": {
            "gridcolor": "white",
            "linecolor": "white",
            "ticks": ""
           },
           "bgcolor": "#E5ECF6",
           "caxis": {
            "gridcolor": "white",
            "linecolor": "white",
            "ticks": ""
           }
          },
          "title": {
           "x": 0.05
          },
          "xaxis": {
           "automargin": true,
           "gridcolor": "white",
           "linecolor": "white",
           "ticks": "",
           "title": {
            "standoff": 15
           },
           "zerolinecolor": "white",
           "zerolinewidth": 2
          },
          "yaxis": {
           "automargin": true,
           "gridcolor": "white",
           "linecolor": "white",
           "ticks": "",
           "title": {
            "standoff": 15
           },
           "zerolinecolor": "white",
           "zerolinewidth": 2
          }
         }
        },
        "title": {
         "text": "Normalized Radar Chart – Hugo Ekitike (per 90 minutes)"
        }
       }
      }
     },
     "metadata": {},
     "output_type": "display_data"
    }
   ],
   "source": [
    "import pandas as pd\n",
    "import plotly.graph_objects as go\n",
    "\n",
    "# === Player per90 stats for two seasons ===\n",
    "player_stats_current = {\n",
    "    \"Goals / 90’\": 0.28,\n",
    "    \"Assists / 90’\": 0.41,\n",
    "    \"G+A / 90’\": 0.69,\n",
    "    \"SoT %\": 42.1,\n",
    "    \"Pass acc. %\": 86.2,\n",
    "    \"Progressive passes / 90’\": 3.1,\n",
    "    \"Progressive carries / 90’\": 5.8,\n",
    "    \"Dribble success %\": 61.5,\n",
    "    \"SCA / 90’\": 2.9,\n",
    "    \"Tackles+Interceptions / 90’\": 1.1,\n",
    "}\n",
    "\n",
    "player_stats_previous = {\n",
    "    \"Goals / 90’\": 0.19,\n",
    "    \"Assists / 90’\": 0.15,\n",
    "    \"G+A / 90’\": 0.34,\n",
    "    \"SoT %\": 30.5,\n",
    "    \"Pass acc. %\": 83.0,\n",
    "    \"Progressive passes / 90’\": 2.1,\n",
    "    \"Progressive carries / 90’\": 4.4,\n",
    "    \"Dribble success %\": 47.2,\n",
    "    \"SCA / 90’\": 1.8,\n",
    "    \"Tackles+Interceptions / 90’\": 1.4,\n",
    "}\n",
    "\n",
    "# === Define normalizing scale for each stat\n",
    "scales = {\n",
    "    \"Goals / 90’\": (0, 1.0),\n",
    "    \"Assists / 90’\": (0, 1.0),\n",
    "    \"G+A / 90’\": (0, 2.0),\n",
    "    \"SoT %\": (0, 100),\n",
    "    \"Pass acc. %\": (50, 95),\n",
    "    \"Progressive passes / 90’\": (0, 10),\n",
    "    \"Progressive carries / 90’\": (0, 15),\n",
    "    \"Dribble success %\": (0, 100),\n",
    "    \"SCA / 90’\": (0, 5),\n",
    "    \"Tackles+Interceptions / 90’\": (0, 5),\n",
    "}\n",
    "\n",
    "# === Normalize values between 0 and 1\n",
    "def normalize(value, min_val, max_val):\n",
    "    return max(0, min((value - min_val) / (max_val - min_val), 1))\n",
    "\n",
    "normalized_current = [normalize(player_stats_current[k], *scales[k]) for k in player_stats_current]\n",
    "normalized_previous = [normalize(player_stats_previous[k], *scales[k]) for k in player_stats_previous]\n",
    "categories = list(player_stats_current.keys())\n",
    "\n",
    "# === Create radar chart\n",
    "fig = go.Figure()\n",
    "\n",
    "fig.add_trace(go.Scatterpolar(\n",
    "    r=normalized_current + [normalized_current[0]],\n",
    "    theta=categories + [categories[0]],\n",
    "    fill='toself',\n",
    "    name='2024–2025 Season',\n",
    "    line=dict(color='rgba(44, 160, 101, 1)')\n",
    "))\n",
    "\n",
    "fig.add_trace(go.Scatterpolar(\n",
    "    r=normalized_previous + [normalized_previous[0]],\n",
    "    theta=categories + [categories[0]],\n",
    "    fill='toself',\n",
    "    name='2023–2024 Season',\n",
    "    line=dict(color='rgba(255, 99, 71, 1)')\n",
    "))\n",
    "\n",
    "fig.update_layout(\n",
    "    polar=dict(\n",
    "        radialaxis=dict(visible=True, range=[0, 1], tickvals=[0, 0.5, 1])\n",
    "    ),\n",
    "    showlegend=True,\n",
    "    title=\"Normalized Radar Chart – Hugo Ekitike (per 90 minutes)\"\n",
    ")\n",
    "\n",
    "fig.show()\n"
   ]
  },
  {
   "cell_type": "code",
   "execution_count": 24,
   "id": "03e851d6",
   "metadata": {},
   "outputs": [
    {
     "data": {
      "image/png": "[encoded data removed]",
      "text/plain": [
       "<Figure size 1000x1000 with 1 Axes>"
      ]
     },
     "metadata": {},
     "output_type": "display_data"
    }
   ],
   "source": [
    "from mplsoccer import PyPizza, FontManager\n",
    "\n",
    "# Parameters and values\n",
    "params = ['Goals', 'Assists', 'Shots on Target %', 'Pass Accuracy', 'Progressive Passes',\n",
    "          'Progressive Carries', 'Dribble Success %', 'SCA', 'Tackles+Interceptions']\n",
    "values = [0.28, 0.41, 42.1, 86.2, 3.1, 5.8, 61.5, 2.9, 1.1]\n",
    "\n",
    "# Instantiate\n",
    "baker = PyPizza(\n",
    "    params=params,\n",
    "    background_color=\"#1A1A1A\",\n",
    "    straight_line_color=\"#FFFFFF\",\n",
    "    straight_line_lw=1,\n",
    "    last_circle_lw=0,\n",
    "    last_circle_color=\"#FFFFFF\",\n",
    "    other_circle_lw=0,\n",
    "    other_circle_color=\"#FFFFFF\",\n",
    "    inner_circle_size=15\n",
    ")\n",
    "\n",
    "# Make figure\n",
    "fig, ax = baker.make_pizza(\n",
    "    values, figsize=(10, 10),\n",
    "    color_blank_space=\"same\",\n",
    "    slice_colors=[\"#00A0FF\"]*len(values),\n",
    "    value_colors=[\"#000000\"]*len(values),\n",
    "    value_bck_colors=[\"#FFFFFF\"]*len(values),\n",
    "    kwargs_slices=dict(edgecolor=\"#000000\", zorder=2, linewidth=1),\n",
    "    kwargs_params=dict(color=\"#FFFFFF\", fontsize=12, va=\"center\"),\n",
    "    kwargs_values=dict(color=\"#000000\", fontsize=11, zorder=3,\n",
    "                       bbox=dict(edgecolor=\"#000000\", facecolor=\"white\", boxstyle=\"round,pad=0.2\", lw=1))\n",
    ")\n"
   ]
  }
 ],
 "metadata": {
  "kernelspec": {
   "display_name": "football_analysis",
   "language": "python",
   "name": "python3"
  },
  "language_info": {
   "codemirror_mode": {
    "name": "ipython",
    "version": 3
   },
   "file_extension": ".py",
   "mimetype": "text/x-python",
   "name": "python",
   "nbconvert_exporter": "python",
   "pygments_lexer": "ipython3",
   "version": "3.10.18"
  }
 },
 "nbformat": 4,
 "nbformat_minor": 5
}
