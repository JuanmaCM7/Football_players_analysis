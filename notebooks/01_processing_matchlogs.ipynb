{
 "cells": [
  {
   "cell_type": "code",
   "execution_count": 1,
   "id": "860a6572",
   "metadata": {},
   "outputs": [
    {
     "name": "stdout",
     "output_type": "stream",
     "text": [
      "✅ Working directory set to: F:\\JCMDataCenter\\Proyectos\\Football_analysis\n"
     ]
    }
   ],
   "source": [
    "import os\n",
    "from pathlib import Path\n",
    "\n",
    "# Set working directory to project root if running from 'notebooks/'\n",
    "notebook_dir = Path().resolve()\n",
    "project_root = notebook_dir.parent  # Assumes notebook is inside 'notebooks/'\n",
    "\n",
    "os.chdir(project_root)\n",
    "print(f\"✅ Working directory set to: {project_root}\")"
   ]
  },
  {
   "cell_type": "code",
   "execution_count": 2,
   "id": "78380e68",
   "metadata": {},
   "outputs": [
    {
     "name": "stdout",
     "output_type": "stream",
     "text": [
      "✅ Cleaned matchlogs saved at: data\\processed\\cleaned_matchlogs.csv | Rows: 471\n"
     ]
    }
   ],
   "source": [
    "import pandas as pd\n",
    "\n",
    "# === File paths\n",
    "input_path = Path(\"data/raw/matchlogs_fbref.csv\")\n",
    "output_path = Path(\"data/processed/cleaned_matchlogs.csv\")\n",
    "output_path.parent.mkdir(parents=True, exist_ok=True)\n",
    "\n",
    "# === Step 1: Load raw CSV\n",
    "df = pd.read_csv(input_path, dtype=str, encoding=\"utf-8\").fillna(\"\")\n",
    "\n",
    "# === Step 2: Normalize player names\n",
    "df[\"player_name\"] = df[\"player_name\"].str.replace(\"_\", \" \", regex=False).str.title()\n",
    "\n",
    "# === Step 3: Rename columns\n",
    "rename_dict = {\n",
    "    \"player_name\": \"Player_name\",\n",
    "    \"player_id\": \"Player_ID\",\n",
    "    \"season\": \"Seasons\",\n",
    "    \"Date\": \"Date\",\n",
    "    \"Day\": \"Day\",\n",
    "    \"Comp\": \"Competition\",\n",
    "    \"Round\": \"Round\",\n",
    "    \"Venue\": \"Home_Away\",\n",
    "    \"Result\": \"Result\",\n",
    "    \"Squad\": \"Player_team\",\n",
    "    \"Opponent\": \"Rival_team\",\n",
    "    \"Start\": \"Start\",\n",
    "    \"Pos\": \"Position\",\n",
    "    \"Min\": \"Minutes\",\n",
    "    \"Gls\": \"Goals\",\n",
    "    \"Ast\": \"Assists\",\n",
    "    \"PK\": \"Penalty_kick\",\n",
    "    \"PKatt\": \"Penalty_kick_att\",\n",
    "    \"Sh\": \"Shots\",\n",
    "    \"SoT\": \"Shots_on_target\",\n",
    "    \"CrdY\": \"Yellow_cards\",\n",
    "    \"CrdR\": \"Red_cards\",\n",
    "    \"Touches\": \"Touches\",\n",
    "    \"Tkl\": \"Tackles\",\n",
    "    \"Int\": \"Interceptions\",\n",
    "    \"Blocks\": \"Blocks\",\n",
    "    \"xG\": \"xG\",\n",
    "    \"npxG\": \"non_penalty_xG\",\n",
    "    \"xAG\": \"x_assisted_G\",\n",
    "    \"SCA\": \"Shot_creating_actions\",\n",
    "    \"GCA\": \"Goal_creating_actions\",\n",
    "    \"Cmp\": \"Passes_completed\",\n",
    "    \"Att\": \"Passes_att\",\n",
    "    \"Cmp%\": \"Percent_passes\",\n",
    "    \"PrgP\": \"Progressive_passes\",\n",
    "    \"Carries\": \"Feet_control\",\n",
    "    \"PrgC\": \"Progressive_control\",\n",
    "    \"Att_2\": \"Dribbles_attempted\",\n",
    "    \"Succ\": \"Dribbles_completed\"\n",
    "}\n",
    "\n",
    "df.rename(columns={k: v for k, v in rename_dict.items() if k in df.columns}, inplace=True)\n",
    "\n",
    "# === Step 4: Drop raw ID columns no longer needed\n",
    "for col in [\"Match Report\", \"season\", \"player_name\", \"player_id\"]:\n",
    "    if col in df.columns:\n",
    "        df.drop(columns=[col], inplace=True)\n",
    "\n",
    "# === Step 5: Filter valid rows\n",
    "df = df[df[\"Player_name\"].notna() & df[\"Player_ID\"].notna() & df[\"Seasons\"].notna()]\n",
    "if \"Date\" in df.columns:\n",
    "    df = df[df[\"Date\"].notna()]\n",
    "\n",
    "# === Step 6: Drop rows where player did not play\n",
    "if \"Position\" in df.columns:\n",
    "    df = df[df[\"Position\"] != \"On matchday squad, but did not play\"]\n",
    "\n",
    "# === Step 6.5: Drop empty rows (except core identifiers)\n",
    "non_core = [col for col in df.columns if col not in [\"Player_name\", \"Player_ID\", \"Seasons\"]]\n",
    "df = df[df[non_core].apply(lambda row: any(cell.strip() for cell in row), axis=1)]\n",
    "\n",
    "# === Step 7: Drop duplicates (same player and date)\n",
    "if \"Date\" in df.columns:\n",
    "    df = df.drop_duplicates(subset=[\"Player_ID\", \"Date\"])\n",
    "\n",
    "# === Step 8: Clean team names (remove language codes)\n",
    "for col in [\"Player_team\", \"Rival_team\"]:\n",
    "    if col in df.columns:\n",
    "        df[col] = df[col].str.replace(r\"^[a-z]{2,3}\\s+\", \"\", regex=True)\n",
    "\n",
    "# === Step 9: Reorder columns\n",
    "core = [\"Player_name\", \"Player_ID\", \"Seasons\"]\n",
    "rest = [c for c in df.columns if c not in core]\n",
    "df = df[core + rest]\n",
    "\n",
    "# === Step 10: Save\n",
    "df.to_csv(output_path, index=False, encoding=\"utf-8\")\n",
    "print(f\"✅ Cleaned matchlogs saved at: {output_path} | Rows: {len(df)}\")"
   ]
  }
 ],
 "metadata": {
  "kernelspec": {
   "display_name": "football_analysis",
   "language": "python",
   "name": "python3"
  },
  "language_info": {
   "codemirror_mode": {
    "name": "ipython",
    "version": 3
   },
   "file_extension": ".py",
   "mimetype": "text/x-python",
   "name": "python",
   "nbconvert_exporter": "python",
   "pygments_lexer": "ipython3",
   "version": "3.10.18"
  }
 },
 "nbformat": 4,
 "nbformat_minor": 5
}
